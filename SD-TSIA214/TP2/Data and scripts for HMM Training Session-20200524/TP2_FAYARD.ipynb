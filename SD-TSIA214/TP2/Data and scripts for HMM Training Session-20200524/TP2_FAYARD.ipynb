{
 "cells": [
  {
   "cell_type": "markdown",
   "metadata": {},
   "source": [
    "# Text segmentation using Hidden Markov Model"
   ]
  },
  {
   "cell_type": "code",
   "execution_count": 3,
   "metadata": {},
   "outputs": [],
   "source": [
    "import numpy as np"
   ]
  },
  {
   "cell_type": "markdown",
   "metadata": {},
   "source": [
    "### Question 1 : Give the value of the π vector of the initial probabilities"
   ]
  },
  {
   "cell_type": "markdown",
   "metadata": {},
   "source": [
    "π0 = [1,0], on est forcément dans le header au début par hypothèse."
   ]
  },
  {
   "cell_type": "markdown",
   "metadata": {},
   "source": [
    "### Question 2 : What is the probability to move from state 1 to state 2 ? What is the probability to remain in state 2 ? What is the lower/higher probability ? Try to explain why"
   ]
  },
  {
   "cell_type": "markdown",
   "metadata": {},
   "source": [
    "La probabilité de passer du header au body est 0.000781921964187974. La probabilité de rester en 2 est de 1. En effet, on ne peut pas passer du body à l'header. Dans un mail, le header est toujours avant le body et on ne passe qu'une seule fois de l'header au body. Quand on est dans l'header, on a de forte chance d'y rester, mais il possible de passer au body."
   ]
  },
  {
   "cell_type": "markdown",
   "metadata": {},
   "source": [
    "### Question 3 : What is the size of B ?"
   ]
  },
  {
   "cell_type": "code",
   "execution_count": 389,
   "metadata": {},
   "outputs": [],
   "source": [
    "P = np.loadtxt('PerlScriptAndModel/PerlScriptAndModel/P.dat')"
   ]
  },
  {
   "cell_type": "code",
   "execution_count": 391,
   "metadata": {},
   "outputs": [
    {
     "data": {
      "text/plain": [
       "(256, 2)"
      ]
     },
     "execution_count": 391,
     "metadata": {},
     "output_type": "execute_result"
    }
   ],
   "source": [
    "P.shape"
   ]
  },
  {
   "cell_type": "markdown",
   "metadata": {},
   "source": [
    "La taille de B est 256 (nombre de caractères) 2 (nombre d'états)."
   ]
  },
  {
   "cell_type": "markdown",
   "metadata": {},
   "source": [
    "### Question 4 :  print the track and present and discuss the results obtained on mail11.txt to mail30.txt"
   ]
  },
  {
   "cell_type": "code",
   "execution_count": 364,
   "metadata": {},
   "outputs": [
    {
     "name": "stdout",
     "output_type": "stream",
     "text": [
      "Il y a 30 mails.\n"
     ]
    }
   ],
   "source": [
    "# On va tout d'abord crée une liste de tous les mails, représentés par leurs caractères ASCII \n",
    "\n",
    "mails = []\n",
    "for i in range(1,31):\n",
    "    mails.append(np.loadtxt('dat/dat/mail'+str(i)+'.dat'))\n",
    "mails = np.array(mails)\n",
    "print(\"Il y a\",len(mails),\"mails.\")"
   ]
  },
  {
   "cell_type": "code",
   "execution_count": 368,
   "metadata": {},
   "outputs": [],
   "source": [
    "# On charge le vecteur contenant les distributions de probabilités pour les 2 états \n",
    "\n",
    "P = np.loadtxt('PerlScriptAndModel/PerlScriptAndModel/P.dat')\n",
    "\n",
    "# On définit la matrice de passage A\n",
    "\n",
    "A = np.array([[0.999218078035812,0.000781921964187974],[0.,1.]])\n",
    "\n",
    "# Enfin, on définit le vecteur représentant la distribution initiale\n",
    "\n",
    "Pi0 = np.array([1,0]) # on fait l'hypothèse que tous les mails possèdent un header, \n",
    "                      # et qu'on est forcément dans l'header (état 0) au début \n"
   ]
  },
  {
   "cell_type": "code",
   "execution_count": 370,
   "metadata": {},
   "outputs": [],
   "source": [
    "def viterbi(X,Pi0,A,P):\n",
    "    \"\"\"\n",
    "        Viterbi Algorithm Implementation\n",
    "\n",
    "        Keyword arguments:\n",
    "            - obs: sequence of observation\n",
    "            - states:list of states\n",
    "            - start_prob:vector of the initial probabilities\n",
    "            - trans: transition matrix\n",
    "            - emission_prob: emission probability matrix\n",
    "        Returns:\n",
    "            - seq: sequence of state\n",
    "    \"\"\"\n",
    "    #pour eviter d avoir des valeurs nulles dans le log\n",
    "    realmin = np.finfo(np.double).tiny\n",
    "    #print(realmin)\n",
    "    A = np.log(A+realmin)\n",
    "    #print(Pi0)\n",
    "    Pi0 = np.log(Pi0+realmin)\n",
    "    #print(Pi0)\n",
    "    P = np.log(P+realmin)\n",
    "    taille = np.shape(X) #X.shape[0]\n",
    "    T = taille[0] #nombre d observations\n",
    "    N = Pi0.shape[0]#nombre des etats du modele\n",
    "    #print(T,N)\n",
    "    \n",
    "    #Initialisations \n",
    "    deltas = np.zeros((T,N))\n",
    "    bcktr = np.zeros((T,N))\n",
    "    \n",
    "    #on initialise deltas\n",
    "    for i in range(N):\n",
    "        deltas[0][i] = Pi0[i]+P[int(X[0]),i]\n",
    "    \n",
    "    #on itère maintenant, en définissant notre nouvel état t à partir de l'état précédent t-1\n",
    "    \n",
    "    for t in range(1,(T)):\n",
    "    #pour chaque observation\n",
    "        for j in range(N):\n",
    "            #pour chaque état \n",
    "            m = max( A[0][j]+deltas[t-1][0], A[1][j]+deltas[t-1][1])\n",
    "            deltas[t][j] = m+P[int(X[t]),j]\n",
    "            bcktr[t-1][j] = np.argmax(np.array([A[0][j]+deltas[t-1][0], A[1][j]+deltas[t-1][1]]))\n",
    "            \n",
    "    #on définit le dernier état bcktr[T-1]\n",
    "    for j in range(N):\n",
    "        bcktr[T-1][j] = np.argmax(np.array([A[0][j]+deltas[T-1][0], A[1][j]+deltas[T-1][1]]))\n",
    "    \n",
    "    #A partir de bcktr et de deltas on peut retrouver le chemin\n",
    "    path = np.zeros(T)\n",
    "    path[T-1] = int(np.argmax(deltas[T-1]))\n",
    "    for t in range(T-2,-1,-1):\n",
    "        path[t]=int(bcktr[t][int(path[t+1])])\n",
    "        \n",
    "    return deltas , path\n"
   ]
  },
  {
   "cell_type": "code",
   "execution_count": 371,
   "metadata": {},
   "outputs": [
    {
     "name": "stdout",
     "output_type": "stream",
     "text": [
      "1\n",
      "0.27223926380368096\n",
      "2\n",
      "0.27577014218009477\n",
      "3\n",
      "0.4247585155058465\n",
      "4\n",
      "0.32710280373831774\n",
      "5\n",
      "0.3201417601890136\n",
      "6\n",
      "0.24135783245094986\n",
      "7\n",
      "0.336018711018711\n",
      "8\n",
      "0.35216413715570544\n",
      "9\n",
      "0.7055072463768116\n",
      "10\n",
      "0.23391655450874832\n",
      "11\n",
      "0.179568345323741\n",
      "12\n",
      "0.2642123716503882\n",
      "13\n",
      "0.3076923076923077\n",
      "14\n",
      "0.2680961070559611\n",
      "15\n",
      "0.6793478260869565\n",
      "16\n",
      "0.24971450323563\n",
      "17\n",
      "0.3337226277372263\n",
      "18\n",
      "0.23074423139421515\n",
      "19\n",
      "0.19809160305343512\n",
      "20\n",
      "0.24404272801972063\n",
      "21\n",
      "0.21058558558558557\n",
      "22\n",
      "0.3867691463079879\n",
      "23\n",
      "0.42186666666666667\n",
      "24\n",
      "0.308295055390435\n",
      "25\n",
      "0.28381717109326743\n",
      "26\n",
      "0.546227893440788\n",
      "27\n",
      "0.437420584498094\n",
      "28\n",
      "0.12436048799685163\n",
      "29\n",
      "0.18892733564013842\n",
      "30\n",
      "0.578875968992248\n"
     ]
    }
   ],
   "source": [
    "#Pour chaque mail, on va afficher la moyenne de son vecteur chemin\n",
    "#Cela donnera la proportion du body du mail par rapport à l'ensemble du mail \n",
    "\n",
    "#Note : pour le moment, header=état0 et body=état1\n",
    "\n",
    "for i in range(n):\n",
    "    print(i+1)\n",
    "    print(np.mean(viterbi(mails[i],Pi0,A,P)[1]))"
   ]
  },
  {
   "cell_type": "markdown",
   "metadata": {},
   "source": [
    "En effet les mails 9 et 15 ont un grand corps d'où grosse moyenne ! "
   ]
  },
  {
   "cell_type": "code",
   "execution_count": 374,
   "metadata": {},
   "outputs": [],
   "source": [
    "# Pour chaque mail, on va enregister le chemin dans un fichier texte path{numéro du mail}\n",
    "\n",
    "# NOTE : cette fois on prend header=état0 et body=état1 (d'où le str(int(x)+1))\n",
    "\n",
    "n = len(mails)\n",
    "for i in range(n):\n",
    "    path = viterbi(mails[i],Pi0,A,P)[1]\n",
    "    fichier = open('path'+str(i+1)+'.txt', \"w\")\n",
    "    for x in path:\n",
    "        fichier.write(str(int(x)+1))"
   ]
  },
  {
   "cell_type": "code",
   "execution_count": 375,
   "metadata": {},
   "outputs": [],
   "source": [
    "path = viterbi(mails[29],Pi0,A,P)[1]\n",
    "fichier = open('path30.txt', \"w\")\n",
    "for x in path:\n",
    "    fichier.write(str(int(x)+1))"
   ]
  },
  {
   "cell_type": "markdown",
   "metadata": {},
   "source": [
    "### Résultat de perl segment.pl mail11.txt path11.txt "
   ]
  },
  {
   "cell_type": "markdown",
   "metadata": {},
   "source": [
    "From spamassassin-devel-admin@lists.sourceforge.net  Thu Aug 22 15:25:29 2002\n",
    "Return-Path: <spamassassin-devel-admin@example.sourceforge.net>\n",
    "Delivered-To: zzzz@localhost.netnoteinc.com\n",
    "Received: from localhost (localhost [127.0.0.1])\n",
    "\tby phobos.labs.netnoteinc.com (Postfix) with ESMTP id AE2D043F9B\n",
    "\tfor <zzzz@localhost>; Thu, 22 Aug 2002 10:25:29 -0400 (EDT)\n",
    "Received: from phobos [127.0.0.1]\n",
    "\tby localhost with IMAP (fetchmail-5.9.0)\n",
    "\tfor zzzz@localhost (single-drop); Thu, 22 Aug 2002 15:25:29 +0100 (IST)\n",
    "Received: from usw-sf-list2.sourceforge.net (usw-sf-fw2.sourceforge.net\n",
    "    [216.136.171.252]) by dogma.slashnull.org (8.11.6/8.11.6) with ESMTP id\n",
    "    g7MENlZ09984 for <zzzz@spamassassin.taint.org>; Thu, 22 Aug 2002 15:23:47 +0100\n",
    "Received: from usw-sf-list1-b.sourceforge.net ([10.3.1.13]\n",
    "    helo=usw-sf-list1.sourceforge.net) by usw-sf-list2.sourceforge.net with\n",
    "    esmtp (Exim 3.31-VA-mm2 #1 (Debian)) id 17hsof-00042r-00; Thu,\n",
    "    22 Aug 2002 07:20:05 -0700\n",
    "Received: from vivi.uptime.at ([62.116.87.11] helo=mail.uptime.at) by\n",
    "    usw-sf-list1.sourceforge.net with esmtp (Exim 3.31-VA-mm2 #1 (Debian)) id\n",
    "    17hsoM-0000Ge-00 for <spamassassin-devel@lists.sourceforge.net>;\n",
    "    Thu, 22 Aug 2002 07:19:47 -0700\n",
    "Received: from [192.168.0.4] (chello062178142216.4.14.vie.surfer.at\n",
    "    [62.178.142.216]) (authenticated bits=0) by mail.uptime.at (8.12.5/8.12.5)\n",
    "    with ESMTP id g7MEI7Vp022036 for\n",
    "    <spamassassin-devel@lists.sourceforge.net>; Thu, 22 Aug 2002 16:18:07\n",
    "    +0200\n",
    "User-Agent: Microsoft-Entourage/10.0.0.1309\n",
    "From: David H=?ISO-8859-1?B?9g==?=hn <dh@uptime.at>\n",
    "To: <spamassassin-devel@example.sourceforge.net>\n",
    "Message-Id: <B98ABFA4.1F87%dh@uptime.at>\n",
    "MIME-Version: 1.0\n",
    "X-Trusted: YES\n",
    "X-From-Laptop: YES\n",
    "Content-Type: text/plain; charset=\"US-ASCII\"\n",
    "Content-Transfer-Encoding: 7bit\n",
    "X-Mailscanner: Nothing found, baby\n",
    "Subject: [SAdev] Interesting approach to Spam handling..\n",
    "Sender: spamassassin-devel-admin@example.sourceforge.net\n",
    "Errors-To: spamassassin-devel-admin@example.sourceforge.net\n",
    "X-Beenthere: spamassassin-devel@example.sourceforge.net\n",
    "X-Mailman-Version: 2.0.9-sf.net\n",
    "Precedence: bulk\n",
    "List-Help: <mailto:spamassassin-devel-request@example.sourceforge.net?subject=help>\n",
    "List-Post: <mailto:spamassassin-devel@example.sourceforge.net>\n",
    "List-Subscribe: <https://example.sourceforge.net/lists/listinfo/spamassassin-devel>,\n",
    "    <mailto:spamassassin-devel-request@lists.sourceforge.net?subject=subscribe>\n",
    "List-Id: SpamAssassin Developers <spamassassin-devel.example.sourceforge.net>\n",
    "List-Unsubscribe: <https://example.sourceforge.net/lists/listinfo/spamassassin-devel>,\n",
    "    <mailto:spamassassin-devel-request@lists.sourceforge.net?subject=unsubscribe>\n",
    "List-Archive: <http://www.geocrawler.com/redir-sf.php3?list=spamassassin-devel>\n",
    "X-Original-Date: Thu, 22 Aug 2002 16:19:48 +0200\n",
    "Date: Thu, 22 Aug 2002 16:19:48 +0200\n",
    "\n",
    "========================== coupez ici ==========================\n",
    "\n",
    "\n",
    "Hello, have you seen and discussed this article and his approach?\n",
    "\n",
    "Thank you\n",
    "\n",
    "http://www.paulgraham.com/spam.html\n",
    "-- \"Hell, there are no rules here-- we're trying to accomplish something.\"\n",
    "-- Thomas Alva Edison\n",
    "\n",
    "\n",
    "\n",
    "\n",
    "-------------------------------------------------------\n",
    "This sf.net email is sponsored by: OSDN - Tired of that same old\n",
    "cell phone?  Get a new here for FREE!\n",
    "https://www.inphonic.com/r.asp?r=sourceforge1&refcode1=vs3390\n",
    "_______________________________________________\n",
    "Spamassassin-devel mailing list\n",
    "Spamassassin-devel@lists.sourceforge.net\n",
    "https://lists.sourceforge.net/lists/listinfo/spamassassin-devel\n"
   ]
  },
  {
   "cell_type": "markdown",
   "metadata": {},
   "source": [
    "### Résultat de perl segment.pl mail30.txt path30.txt "
   ]
  },
  {
   "cell_type": "markdown",
   "metadata": {},
   "source": [
    "From ilug-admin@linux.ie  Fri Aug 23 11:07:51 2002\n",
    "Return-Path: <ilug-admin@linux.ie>\n",
    "Delivered-To: zzzz@localhost.netnoteinc.com\n",
    "Received: from localhost (localhost [127.0.0.1])\n",
    "\tby phobos.labs.netnoteinc.com (Postfix) with ESMTP id 7419C4416C\n",
    "\tfor <zzzz@localhost>; Fri, 23 Aug 2002 06:06:33 -0400 (EDT)\n",
    "Received: from phobos [127.0.0.1]\n",
    "\tby localhost with IMAP (fetchmail-5.9.0)\n",
    "\tfor zzzz@localhost (single-drop); Fri, 23 Aug 2002 11:06:33 +0100 (IST)\n",
    "Received: from lugh.tuatha.org (root@lugh.tuatha.org [194.125.145.45]) by\n",
    "    dogma.slashnull.org (8.11.6/8.11.6) with ESMTP id g7MJtgZ22471 for\n",
    "    <zzzz-ilug@spamassassin.taint.org>; Thu, 22 Aug 2002 20:55:42 +0100\n",
    "Received: from lugh (root@localhost [127.0.0.1]) by lugh.tuatha.org\n",
    "    (8.9.3/8.9.3) with ESMTP id UAA19436; Thu, 22 Aug 2002 20:53:00 +0100\n",
    "X-Authentication-Warning: lugh.tuatha.org: Host root@localhost [127.0.0.1]\n",
    "    claimed to be lugh\n",
    "Received: from mail02.svc.cra.dublin.eircom.net\n",
    "    (mail02.svc.cra.dublin.eircom.net [159.134.118.18]) by lugh.tuatha.org\n",
    "    (8.9.3/8.9.3) with SMTP id UAA19403 for <ilug@linux.ie>; Thu,\n",
    "    22 Aug 2002 20:52:53 +0100\n",
    "Received: (qmail 50842 messnum 34651 invoked from\n",
    "    network[159.134.205.176/p432.as1.athlone1.eircom.net]); 22 Aug 2002\n",
    "    19:52:16 -0000\n",
    "Received: from p432.as1.athlone1.eircom.net (HELO darkstar)\n",
    "    (159.134.205.176) by mail02.svc.cra.dublin.eircom.net (qp 50842) with SMTP;\n",
    "    22 Aug 2002 19:52:16 -0000\n",
    "Content-Type: text/plain; charset=\"iso-8859-15\"\n",
    "From: Ciaran Johnston <cj@nologic.org>\n",
    "Organization: nologic.org\n",
    "To: <ilug@linux.ie>\n",
    "Subject: Re: [ILUG] Formatting a windows partition from Linux\n",
    "Date: Thu, 22 Aug 2002 20:58:07 +0100\n",
    "User-Agent: KMail/1.4.1\n",
    "References: <1029944325.29456.28.camel@dubrhlnx1>\n",
    "    <26030.194.237.142.30.1029943301.squirrel@mail.nologic.org>\n",
    "In-Reply-To: <26030.194.237.142.30.1029943301.squirrel@mail.nologic.org>\n",
    "MIME-Version: 1.0\n",
    "Message-Id: <200208222058.07760.cj@nologic.org>\n",
    "Content-Transfer-Encoding: 8bit\n",
    "X-MIME-Autoconverted: from quoted-printable to 8bit by lugh.tuatha.org id\n",
    "    UAA19403\n",
    "Sender: ilug-admin@linux.ie\n",
    "Errors-To: ilug-admin@linux.ie\n",
    "X-Mailman-Version: 1.1\n",
    "Precedence: bulk\n",
    "L\n",
    "\n",
    "========================== coupez ici ==========================\n",
    "\n",
    "\n",
    "ist-Id: Irish Linux Users' Group <ilug.linux.ie>\n",
    "X-Beenthere: ilug@linux.ie\n",
    "\n",
    "Update on this for anyone that's interested, and because I like closed \n",
    "threads... nothing worse than an infinite while loop, is there?\n",
    "\n",
    "I ended up formatting a floppy on my flatmate's (un-networked) P100 running \n",
    "FAT16 Win95, and mcopied the contents of the bootdisk across. Now I have a \n",
    "FAT16 Win98 install running alongside Slackware, and can play Metal Gear \n",
    "Solid when the mood takes me ;)\n",
    "\n",
    "/Ciaran.\n",
    "\n",
    "On Wednesday 21 August 2002 16:21, Ciaran Johnston wrote:\n",
    "> Dublin said:\n",
    "> > If you copy the files from your disk to the c: partition and mark it as\n",
    "> > active it should work ...\n",
    ">\n",
    "> Yeah, I figured that, but it doesn't seem to ... well, if that's the case\n",
    "> I'll give it another go tonight, maybe come back with some error messages.\n",
    ">\n",
    "> Just to clarify for those who didn't understand me initially - I have a\n",
    "> floppy drive installed, but it doesn't physically work. There's nowhere\n",
    "> handy to pick one up where I am, and I don't fancy waiting a few days for\n",
    "> one to arrive from Peats.\n",
    ">\n",
    "> Thanks for the answers,\n",
    "> Ciaran.\n",
    ">\n",
    "> > You especially need io.sys, command.com and msdos.sys\n",
    "> >\n",
    "> > your cd driver .sys and read the autoexec.bat and config.sys files for\n",
    "> > hints on what you did with your boot floppy <g>\n",
    "> >\n",
    "> > P\n",
    "> >\n",
    "> > On Wed, 2002-08-21 at 14:07, Ciaran Johnston wrote:\n",
    "> >> Hi folks,\n",
    "> >> The situation is this: at home, I have a PC with 2 10Gig HDDs, and no\n",
    "> >> (working) floppy drive. I have been running Linux solely for the last\n",
    "> >> year, but recently got the urge to, among other things, play some of\n",
    "> >> my Windoze games. I normally install the windows partition using a\n",
    "> >> boot floppy which I have conveniently zipped up, but I haven't any way\n",
    "> >> of writing or reading a floppy.\n",
    "> >> So, how do I go about:\n",
    "> >> 1. formatting a C: drive with system files (normally I would use\n",
    "> >> format /s c: from the floppy).\n",
    "> >> 2. Installing the CDROM drivers (my bootdisk (I wrote it many years\n",
    "> >> ago) does this normally).\n",
    "> >> 3. Booting from the partition?\n",
    "> >>\n",
    "> >> I wiped all my linux partitions from the first drive and created\n",
    "> >> partitions for Windows (HDA1) Slackware and RedHat. I used cfdisk for\n",
    "> >> this. I made the first drive (hda) bootable. I then installed the\n",
    "> >> windows partition in LILO and reran lilo (installed in MBR). I copied\n",
    "> >> the contents of boot.zip to my new windows partition and tried to boot\n",
    "> >> it - all I get is a garbled line of squiggles.\n",
    "> >>\n",
    "> >> Anyone any ideas? I can't think of anywhere in Athlone to get a new\n",
    "> >> floppy drive this evening...\n",
    "> >>\n",
    "> >> Thanks,\n",
    "> >> Ciaran.\n",
    "> >>\n",
    "> >>\n",
    "> >>\n",
    "> >> --\n",
    "> >> Irish Linux Users' Group: ilug@linux.ie\n",
    "> >> http://www.linux.ie/mailman/listinfo/ilug for (un)subscription\n",
    "> >> information. List maintainer: listmaster@linux.ie\n",
    "\n",
    "\n",
    "-- \n",
    "Irish Linux Users' Group: ilug@linux.ie\n",
    "http://www.linux.ie/mailman/listinfo/ilug for (un)subscription information.\n",
    "List maintainer: listmaster@linux.ie\n",
    "\n"
   ]
  },
  {
   "cell_type": "markdown",
   "metadata": {},
   "source": [
    "Pour le mail 11, la coupure se fait au bon endroit. On passe au caractère H de Hello qui a plus de chance d'appartenir au body qu'à l'header d'où la transition. \n",
    "\n",
    "Pour le mail 30, la coupure est en revanche un peu trop tôt."
   ]
  },
  {
   "cell_type": "code",
   "execution_count": 388,
   "metadata": {},
   "outputs": [
    {
     "name": "stdout",
     "output_type": "stream",
     "text": [
      "Répartition de h [0.00043041 0.00128733]\n",
      "Répartition de h [0.00109497 0.00012316]\n",
      "Répartition de h [0.03010139 0.00263533]\n"
     ]
    }
   ],
   "source": [
    "#On essaie de regarder la distribution du caractère H \n",
    "\n",
    "print(\"Répartition de h\",P[72])\n",
    "\n",
    "#On essaie de regarder la distribution du caractère = \n",
    "\n",
    "print(\"Répartition de h\",P[61])\n",
    "\n",
    "#On essaie de regarder la distribution du caractère 2 \n",
    "\n",
    "print(\"Répartition de h\",P[50])"
   ]
  },
  {
   "cell_type": "markdown",
   "metadata": {},
   "source": [
    "C'est plutôt logique, le signe égal et le chiffre 2 sont plus présents dans le header que dans le body, et c'est l'inverse pour le carctère h. "
   ]
  },
  {
   "cell_type": "markdown",
   "metadata": {},
   "source": [
    "### Question 5 : How would you model the problem if you had to segment the mails in more than two parts (for example : header, body, signature) ?"
   ]
  },
  {
   "cell_type": "markdown",
   "metadata": {},
   "source": [
    "Il faudrait faire une matrice A de taille 3*3, et une matrice B de taille (256,3). \n",
    "On pourrait apprendre ces matrices A et B de la même manière que l'on a fait ici, avec une dizaine de mails. \n",
    "On aurait Pi0 = [1,0,0] et dans la matrice A, uniquement la possibilité de passer de 1 à 2 et de 2 à 3. "
   ]
  },
  {
   "cell_type": "markdown",
   "metadata": {},
   "source": [
    "### Question 6 : How would you model the problem of separating the portions of mail included, knowing that they always start with the character \">\""
   ]
  },
  {
   "cell_type": "markdown",
   "metadata": {},
   "source": [
    "Il faudrait augmenter, dans la matrice B, la probabilité du caractère >, pour l'état 2 ! "
   ]
  },
  {
   "cell_type": "code",
   "execution_count": null,
   "metadata": {},
   "outputs": [],
   "source": []
  }
 ],
 "metadata": {
  "kernelspec": {
   "display_name": "Python 3",
   "language": "python",
   "name": "python3"
  },
  "language_info": {
   "codemirror_mode": {
    "name": "ipython",
    "version": 3
   },
   "file_extension": ".py",
   "mimetype": "text/x-python",
   "name": "python",
   "nbconvert_exporter": "python",
   "pygments_lexer": "ipython3",
   "version": "3.6.9"
  }
 },
 "nbformat": 4,
 "nbformat_minor": 2
}
