{
 "cells": [
  {
   "cell_type": "markdown",
   "metadata": {},
   "source": [
    "# Computer Lab: nonnegative matrix factorization"
   ]
  },
  {
   "cell_type": "code",
   "execution_count": 49,
   "metadata": {},
   "outputs": [],
   "source": [
    "import numpy as np\n",
    "import matplotlib.pyplot as plt\n",
    "import scipy.optimize\n",
    "import scipy.sparse\n",
    "import scipy.sparse.linalg"
   ]
  },
  {
   "cell_type": "code",
   "execution_count": 50,
   "metadata": {},
   "outputs": [],
   "source": [
    "def build_matrix_from_faces(folder='orl_faces', minidata=False):\n",
    "    # load images\n",
    "    # 400 images of size (112, 92)\n",
    "    M = []\n",
    "    if minidata is True:\n",
    "        nb_subjects = 1\n",
    "    else:\n",
    "        nb_subjects = 40\n",
    "    for subject in range(1, nb_subjects + 1\n",
    "                        ):\n",
    "        for image in range(1, 11):\n",
    "            face = plt.imread(folder + '/s' + str(subject)\n",
    "                              + '/' + str(image) + '.pgm')\n",
    "            M.append(face.ravel())\n",
    "\n",
    "    return np.array(M, dtype=float)\n",
    "\n",
    "def vectorize(W, H):\n",
    "    return np.concatenate((W.ravel(), H.ravel()))\n",
    "\n",
    "def unvectorize_M(W_H, M):\n",
    "    # number of elements in W_H is (n+p)*k where M is of size n x m\n",
    "    # W has the nk first elements\n",
    "    # H has the kp last elements\n",
    "    n, p = M.shape\n",
    "    k = W_H.shape[0] // (n + p)\n",
    "    W = W_H[:n * k].reshape((n, k))\n",
    "    H = W_H[n * k:].reshape((k, p))\n",
    "    return W, H"
   ]
  },
  {
   "cell_type": "markdown",
   "metadata": {
    "collapsed": true
   },
   "source": [
    "Download the database at https://www.cl.cam.ac.uk/research/dtg/attarchive/facedatabase.html\n",
    "Uncompress the file."
   ]
  },
  {
   "cell_type": "code",
   "execution_count": 51,
   "metadata": {},
   "outputs": [],
   "source": [
    "# Small data to test the algorithm\n",
    "M = build_matrix_from_faces(folder='orl_faces', minidata=True)\n",
    "def unvectorize(W_H): return unvectorize_M(W_H, M)\n",
    "k = 2"
   ]
  },
  {
   "cell_type": "code",
   "execution_count": 52,
   "metadata": {},
   "outputs": [
    {
     "data": {
      "image/png": "[encoded data removed]",
      "text/plain": [
       "<Figure size 432x288 with 1 Axes>"
      ]
     },
     "metadata": {},
     "output_type": "display_data"
    }
   ],
   "source": [
    "# To see the first face:\n",
    "plt.imshow(M[0].reshape((112, 92)), cmap='gray'); plt.show()"
   ]
  },
  {
   "cell_type": "markdown",
   "metadata": {},
   "source": [
    "<div style=\"border-top:dashed black\"/>\n",
    "<h1><em>Question 2.1</em></h1>"
   ]
  },
  {
   "cell_type": "code",
   "execution_count": 53,
   "metadata": {},
   "outputs": [
    {
     "name": "stdout",
     "output_type": "stream",
     "text": [
      "There are 10 photos with 10304 pixels each.\n"
     ]
    }
   ],
   "source": [
    "n = len(M)\n",
    "p = len(M[0])\n",
    "\n",
    "print(\"There are\", n, \"photos with\", p, \"pixels each.\")"
   ]
  },
  {
   "cell_type": "markdown",
   "metadata": {},
   "source": [
    "<div style=\"border-top:dashed black\"/>\n",
    "<h1><em>Question 3.1</em></h1>"
   ]
  },
  {
   "cell_type": "markdown",
   "metadata": {},
   "source": [
    "In 1D, $$n=p=k=1$$ therefore, the objective function is: $$f(w, h) = \\frac{1}{2}\\left(m - w\\cdot h \\right)^2$$"
   ]
  },
  {
   "cell_type": "markdown",
   "metadata": {},
   "source": [
    "We can compute the associated hessian matrix and look if it's positive:\n",
    "\n",
    "\n",
    "$$H(f)= \\begin{bmatrix}\n",
    "h^2 & -m+2wh \\\\\n",
    "-m+2wh & w^2\n",
    "\\end{bmatrix}$$\n",
    "\n",
    "\n",
    "This matrix isn't positive because its determinant is $h^2w^2 - (m-2wh)^2$ and for $w = h = 0$, this determinant is negative. Therefore, the function isn't convex."
   ]
  },
  {
   "cell_type": "markdown",
   "metadata": {},
   "source": [
    "<div style=\"border-top:dashed black\"/>\n",
    "<h1><em>Question 3.2</em></h1>"
   ]
  },
  {
   "cell_type": "markdown",
   "metadata": {},
   "source": [
    "Knowing that $<A, B> = Tr(A^T B)$, We can compute the partial differentials by computing $f(W, H+h)$ and isolating the terms linked with $h$ \n",
    "Finally, we have:\n",
    "$$\\frac{\\partial f}{\\partial W} = \\frac{1}{np}\\left( WH-M \\right)H^T$$\n",
    "and\n",
    "$$\\frac{\\partial f}{\\partial H} = \\frac{1}{np}W^T\\left( WH-M \\right)$$"
   ]
  },
  {
   "cell_type": "markdown",
   "metadata": {},
   "source": [
    "<div style=\"border-top:dashed black\"/>\n",
    "<h1><em>Question 4.1</em></h1>"
   ]
  },
  {
   "cell_type": "code",
   "execution_count": 54,
   "metadata": {},
   "outputs": [],
   "source": [
    "W0, S, H0 = scipy.sparse.linalg.svds(M, k)\n",
    "W0 = np.maximum(0, W0 * np.sqrt(S))\n",
    "H0 = np.maximum(0, (H0.T * np.sqrt(S)).T)"
   ]
  },
  {
   "cell_type": "markdown",
   "metadata": {},
   "source": [
    "Whith ```scipy.linalg.svds(M, k)``` we get the value for k wich allows to reconstruct an approximation for M with a low complexity. We can initialize them with any positive value."
   ]
  },
  {
   "cell_type": "markdown",
   "metadata": {},
   "source": [
    "<div style=\"border-top:dashed black\"/>\n",
    "<h1><em>Question 4.2</em></h1>"
   ]
  },
  {
   "cell_type": "markdown",
   "metadata": {},
   "source": [
    "We already know that $$\\frac{df}{dW} = \\frac{1}{np}\\left( WH_0-M \\right)H_0^T$$ Therefore, we can diferentiate a second time to obtain:\n",
    "$$\\frac{d^2f}{dW^2} = \\frac{1}{np}H_0H_0^T$$\n",
    "This matrix is positive semi-definite so $g$ is convex."
   ]
  },
  {
   "cell_type": "markdown",
   "metadata": {},
   "source": [
    "The gradient of $g$ is :\n",
    "$$\n",
    "\\nabla g = \\frac{1}{np}\\left( WH_0-M \\right)H_0^T\n",
    "$$"
   ]
  },
  {
   "cell_type": "markdown",
   "metadata": {},
   "source": [
    "<div style=\"border-top:dashed black\"/>\n",
    "<h1><em>Question 4.3</em></h1>"
   ]
  },
  {
   "cell_type": "code",
   "execution_count": 55,
   "metadata": {},
   "outputs": [
    {
     "name": "stdout",
     "output_type": "stream",
     "text": [
      "2.097820230524603e-05\n"
     ]
    }
   ],
   "source": [
    "def g(W):\n",
    "    W = W.reshape((n, k))\n",
    "    return 1/(2*n*p)*np.linalg.norm(M-np.dot(W, H0))**2\n",
    "\n",
    "def g_grad(W_):\n",
    "    W = W_.reshape((n, k))\n",
    "    gradient = -1/(n*p)*np.dot(M-np.dot(W, H0), H0.T)\n",
    "    return gradient.ravel()\n",
    "\n",
    "print(scipy.optimize.check_grad(g, g_grad, W0.ravel()))"
   ]
  },
  {
   "cell_type": "markdown",
   "metadata": {},
   "source": [
    "As ```scipy.optimize.check_grad``` returns the error, we can see that our computation is quite correct because there is a low error."
   ]
  },
  {
   "cell_type": "markdown",
   "metadata": {},
   "source": [
    "<div style=\"border-top:dashed black\"/>\n",
    "<h1><em>Question 4.4</em></h1>"
   ]
  },
  {
   "cell_type": "markdown",
   "metadata": {},
   "source": [
    "According to the definition,\n",
    "\n",
    "$$ prox_{\\gamma \\iota_{\\mathbb{R}_{+}}}(x)= \\mathop{\\arg\\min}_{y\\in R} \\gamma\\iota_{\\mathbb{R}_{+}}\\left(y\\right)+\\frac{1}{2}||y-x||^{2} $$\n",
    "\n",
    "$\\forall \\gamma > 0$, \n",
    "\n",
    "$prox_{\\gamma \\iota_{\\mathbb{R}_{+}}}(x) = 0 $ if $  x\\leq 0$,\n",
    "\n",
    "and $prox_{\\gamma \\iota_{\\mathbb{R}_{+}}}(x) = x $ if $x > 0$.\n",
    "\n",
    "That's quite the definition of the projection on $\\mathbb{R}^+$"
   ]
  },
  {
   "cell_type": "markdown",
   "metadata": {},
   "source": [
    "<div style=\"border-top:dashed black\"/>\n",
    "<h1><em>Question 4.5</em></h1>"
   ]
  },
  {
   "cell_type": "code",
   "execution_count": 56,
   "metadata": {},
   "outputs": [],
   "source": [
    "def projected_gradient_method(val_g, grad_g, W0, gamma, N):\n",
    "    W = W0.ravel()\n",
    "    g = []\n",
    "    for i in range(N):\n",
    "        W = np.maximum(0, W - gamma*grad_g(W))\n",
    "        g.append(val_g(W))\n",
    "    return W, val_g(W), g"
   ]
  },
  {
   "cell_type": "markdown",
   "metadata": {},
   "source": [
    "<div style=\"border-top:dashed black\"/>\n",
    "<h1><em>Question 4.6</em></h1>"
   ]
  },
  {
   "cell_type": "code",
   "execution_count": 57,
   "metadata": {},
   "outputs": [
    {
     "name": "stdout",
     "output_type": "stream",
     "text": [
      "for N = 100, g = 442.2878543960478\n"
     ]
    }
   ],
   "source": [
    "gamma = n*p/np.linalg.norm(np.dot(H0.T, H0))\n",
    "\n",
    "print(\"for N = 100, g =\", projected_gradient_method(g, g_grad, W0, gamma, 100)[1])"
   ]
  },
  {
   "cell_type": "markdown",
   "metadata": {},
   "source": [
    "<div style=\"border-top:dashed black\"/>\n",
    "<h1><em>Question 5.1</em></h1>"
   ]
  },
  {
   "cell_type": "code",
   "execution_count": 58,
   "metadata": {},
   "outputs": [
    {
     "name": "stdout",
     "output_type": "stream",
     "text": [
      "for N = 100, g = 442.2300684941508\n"
     ]
    }
   ],
   "source": [
    "def armijo_projected_gradient_method(val_g, grad_g, W0, N):\n",
    "    W = W0.ravel()\n",
    "    a, gamma, beta, b = 0.5, 0.5,0.5,0.5\n",
    "    for i in range(N):\n",
    "        n= 0\n",
    "        while (val_g(W - b*(a**n)*grad_g(W)) >  val_g(W) + beta*(-b*(a**n))*np.linalg.norm(grad_g(W))**2):\n",
    "            n+=1\n",
    "        W = np.maximum(0, W - b*(a**n)*grad_g(W))\n",
    "        b = 2*b*(a**n)\n",
    "    return W, val_g(W)\n",
    "\n",
    "print(\"for N = 100, g =\", armijo_projected_gradient_method(g, g_grad, W0, 100)[1])"
   ]
  },
  {
   "cell_type": "code",
   "execution_count": 43,
   "metadata": {},
   "outputs": [],
   "source": []
  },
  {
   "cell_type": "markdown",
   "metadata": {},
   "source": [
    "<div style=\"border-top:dashed black\"/>\n",
    "<h1><em>Question 6.1 </em></h1>"
   ]
  },
  {
   "cell_type": "code",
   "execution_count": 59,
   "metadata": {},
   "outputs": [],
   "source": [
    "def obj_function(W_H_vectorized):\n",
    "    W, H = unvectorize(W_H_vectorized)\n",
    "    return 1/(2*n*p)*np.linalg.norm(M-np.dot(W, H))**2\n",
    "\n",
    "def grad_obj_function(W_H_vectorized):\n",
    "    W, H = unvectorize(W_H_vectorized)\n",
    "    grad_W = -1/(n*p)*np.dot(M-np.dot(W, H), H.T)\n",
    "    grad_H = -1/(n*p)*np.dot(W.T, M-np.dot(W, H))\n",
    "    return vectorize(grad_W, grad_H)"
   ]
  },
  {
   "cell_type": "code",
   "execution_count": 73,
   "metadata": {},
   "outputs": [
    {
     "name": "stdout",
     "output_type": "stream",
     "text": [
      "for N==1000, objective unction= 358.922911113055\n"
     ]
    }
   ],
   "source": [
    "print(\"for N==1000, objective unction=\", armijo_projected_gradient_method(obj_function, grad_obj_function, vectorize(W0, H0), 1000)[1])"
   ]
  },
  {
   "cell_type": "markdown",
   "metadata": {},
   "source": [
    "<div style=\"border-top:dashed black\"/>\n",
    "<h1><em>Question 6.2 </em></h1>"
   ]
  },
  {
   "cell_type": "markdown",
   "metadata": {},
   "source": [
    "We have $$\\frac{1}{np}\\|(M-W_{t-1}H_{t-1})\\|_{F}^2 \\leq \\frac{1}{np}\\|(M-W_{t}H_{t-1})\\|_{F}^2 \\leq \\frac{1}{np}\\|(M-W_{t}H_{t})\\|_{F}^2 $$ \n",
    "\n",
    "so the objective function decreases and converges as it's positive."
   ]
  },
  {
   "cell_type": "markdown",
   "metadata": {},
   "source": [
    "<div style=\"border-top:dashed black\"/>\n",
    "<h1><em>Question 6.3 </em></h1>"
   ]
  },
  {
   "cell_type": "code",
   "execution_count": 71,
   "metadata": {},
   "outputs": [],
   "source": [
    "def g_alt(W_vectorized, H_vectorized):\n",
    "    W = W_vectorized.reshape((n, k))\n",
    "    H = H_vectorized.reshape((k, p))\n",
    "    return 1/(2*n*p)*np.linalg.norm(M-np.dot(W, H), ord='fro')**2\n",
    "\n",
    "def g_grad_alt(W_vectorized, H_vectorized):\n",
    "    W = W_vectorized.reshape((n, k))\n",
    "    H = H_vectorized.reshape((k, p))\n",
    "    grad = -1/(n*p)*np.dot(M-np.dot(W, H), H.T)\n",
    "    return grad.ravel()\n",
    "\n",
    "def armijo_projected_gradient_method_W(val_g_alternate, grad_g_alternate, H_vectorized, W0_vectorized, N):\n",
    "    W = W0_vectorized\n",
    "    a, gamma, beta = 0.5, 0.5, 0.5\n",
    "    b = 1\n",
    "    for i in range(N):\n",
    "        l = 0\n",
    "        while (val_g_alternate(W-b*(a**l)*grad_g_alternate(W, H_vectorized), H_vectorized) \n",
    "               > val_g_alternate(W, H_vectorized) + beta*(-b*(a**l))*np.linalg.norm(grad_g_alternate(W, H_vectorized))**2):\n",
    "            l+=1\n",
    "        W = np.maximum(0, W - b*(a**l)*grad_g_alternate(W, H_vectorized))\n",
    "        b = 2*b*(a**l)\n",
    "    return W, g_alt(W, H_vectorized)\n",
    "\n",
    "\n",
    "def h_alt(W_vectorized, H_vectorized):\n",
    "    W = W_vectorized.reshape((n, k))\n",
    "    H = H_vectorized.reshape((k, p))\n",
    "    return 1/(2*n*p)*np.linalg.norm(M-np.dot(W, H), ord='fro')**2\n",
    "\n",
    "def h_grad_alt(W_vectorized, H_vectorized):\n",
    "    W = W_vectorized.reshape((n, k))\n",
    "    H = H_vectorized.reshape((k, p))\n",
    "    grad = -1/(n*p)*np.dot(W.T, M-np.dot(W, H))\n",
    "    return grad.ravel()\n",
    "\n",
    "def armijo_projected_gradient_method_H(val_h_alternate, grad_h_alternate, H0_vectorized, W_vectorized, N):\n",
    "    H = H0_vectorized\n",
    "    a, gamma, beta = 0.5, 0.5, 0.5\n",
    "    b = 1\n",
    "    for i in range(N):\n",
    "        l = 0\n",
    "        while (val_h_alternate(W_vectorized, H-b*(a**l)*grad_h_alternate(W_vectorized, H)) \n",
    "               > val_h_alternate(W_vectorized, H) + beta*(-b*(a**l))*np.linalg.norm(grad_h_alternate(W_vectorized, H))**2):\n",
    "            l+=1\n",
    "        H = np.maximum(0, H - b*(a**l)*grad_h_alternate(W_vectorized, H))\n",
    "        b = 2*b*(a**l)\n",
    "    return H, h_alt(W_vectorized, H)\n",
    "\n",
    "def alt_method(N, M):\n",
    "    W, H = W0.ravel(), H0.ravel()\n",
    "    for i in range(M):\n",
    "        W = armijo_projected_gradient_method_W(g_alt, g_grad_alt , H, W, N)[0]\n",
    "        H = armijo_projected_gradient_method_H(h_alt, h_grad_alt, H, W, N)[0]\n",
    "    return vectorize(W,H), g_alt(W, H)"
   ]
  },
  {
   "cell_type": "code",
   "execution_count": 75,
   "metadata": {},
   "outputs": [
    {
     "name": "stdout",
     "output_type": "stream",
     "text": [
      "The new objective function value is  358.9341707593857\n"
     ]
    }
   ],
   "source": [
    "print(\"The new objective function value is \", alt_method(10,100)[1])"
   ]
  },
  {
   "cell_type": "markdown",
   "metadata": {},
   "source": [
    "<div style=\"border-top:dashed black\"/>\n",
    "<h1><em>Question 6.4 </em></h1>"
   ]
  },
  {
   "cell_type": "markdown",
   "metadata": {},
   "source": [
    "The new objective function value is almost equal to the former one and the new algorithm is much more quick so very efficient."
   ]
  },
  {
   "cell_type": "markdown",
   "metadata": {},
   "source": [
    "<div style=\"border-top:dashed black\"/>\n",
    "<h1><em>Question 6.5 </em></h1>"
   ]
  },
  {
   "cell_type": "markdown",
   "metadata": {},
   "source": [
    "We can propose for that the algorithm stops if the difference between the value of the objective function before and after the iteration is very short."
   ]
  },
  {
   "cell_type": "code",
   "execution_count": 76,
   "metadata": {},
   "outputs": [],
   "source": [
    "# Full data\n",
    "M = build_matrix_from_faces(folder='orl_faces', minidata=False)\n",
    "def unvectorize(W_H): return unvectorize_M(W_H, M)\n",
    "k = 38"
   ]
  },
  {
   "cell_type": "code",
   "execution_count": null,
   "metadata": {},
   "outputs": [],
   "source": []
  }
 ],
 "metadata": {
  "kernelspec": {
   "display_name": "Python 3",
   "language": "python",
   "name": "python3"
  },
  "language_info": {
   "codemirror_mode": {
    "name": "ipython",
    "version": 3
   },
   "file_extension": ".py",
   "mimetype": "text/x-python",
   "name": "python",
   "nbconvert_exporter": "python",
   "pygments_lexer": "ipython3",
   "version": "3.6.8"
  }
 },
 "nbformat": 4,
 "nbformat_minor": 2
}
