{
 "cells": [
  {
   "cell_type": "markdown",
   "metadata": {},
   "source": [
    "# SD212: Graph mining\n",
    "## Lab 5: Hierarchical clustering\n",
    "\n",
    "In this lab, you will learn to analyse the hierarchical structure of a graph. "
   ]
  },
  {
   "cell_type": "markdown",
   "metadata": {},
   "source": [
    "## Import"
   ]
  },
  {
   "cell_type": "code",
   "execution_count": 1,
   "metadata": {},
   "outputs": [],
   "source": [
    "from IPython.display import SVG"
   ]
  },
  {
   "cell_type": "code",
   "execution_count": 2,
   "metadata": {},
   "outputs": [],
   "source": [
    "import numpy as np\n",
    "from scipy import sparse"
   ]
  },
  {
   "cell_type": "code",
   "execution_count": 4,
   "metadata": {},
   "outputs": [],
   "source": [
    "# if you get any error, please update scikit-network!\n",
    "from sknetwork.data import load_netset, karate_club\n",
    "from sknetwork.hierarchy import LouvainHierarchy, BiLouvainHierarchy, Paris, BiParis, cut_straight\n",
    "from sknetwork.ranking import PageRank, BiPageRank\n",
    "from sknetwork.linalg import normalize\n",
    "from sknetwork.utils import membership_matrix\n",
    "from sknetwork.visualization import svg_graph, svg_digraph, svg_dendrogram"
   ]
  },
  {
   "cell_type": "markdown",
   "metadata": {},
   "source": [
    "## Data"
   ]
  },
  {
   "cell_type": "markdown",
   "metadata": {},
   "source": [
    "We will work on the following graphs (see the [NetSets](https://graphs.telecom-paristech.fr/Home_page.html#netsets-section) collection for details):\n",
    "* Openflights (graph)\n",
    "* WikiVitals (digraph)\n",
    "* Cinema (bigraph)"
   ]
  },
  {
   "cell_type": "code",
   "execution_count": 5,
   "metadata": {},
   "outputs": [],
   "source": [
    "openflights = load_netset('openflights')\n",
    "wikivitals = load_netset('wikivitals')\n",
    "cinema = load_netset('cinema')"
   ]
  },
  {
   "cell_type": "markdown",
   "metadata": {},
   "source": [
    "## 1. Graphs"
   ]
  },
  {
   "cell_type": "markdown",
   "metadata": {},
   "source": [
    "## Karate Club\n"
   ]
  },
  {
   "cell_type": "markdown",
   "metadata": {},
   "source": [
    "The [karate club graph](https://en.wikipedia.org/wiki/Zachary%27s_karate_club) provides ground-truth clusters."
   ]
  },
  {
   "cell_type": "code",
   "execution_count": 6,
   "metadata": {},
   "outputs": [],
   "source": [
    "graph = karate_club(True)"
   ]
  },
  {
   "cell_type": "code",
   "execution_count": 7,
   "metadata": {},
   "outputs": [],
   "source": [
    "adjacency = graph.adjacency\n",
    "position = graph.position\n",
    "labels_true = graph.labels"
   ]
  },
  {
   "cell_type": "code",
   "execution_count": 8,
   "metadata": {},
   "outputs": [
    {
     "data": {
      "image/svg+xml": [
       "<svg height=\"340\" width=\"440\" xmlns=\"http://www.w3.org/2000/svg\"><path d=\"M 264 200 353 168\" stroke=\"black\" stroke-width=\"1\"/><path d=\"M 264 200 251 143\" stroke=\"black\" stroke-width=\"1\"/><path d=\"M 264 200 304 191\" stroke=\"black\" stroke-width=\"1\"/><path d=\"M 264 200 255 255\" stroke=\"black\" stroke-width=\"1\"/><path d=\"M 264 200 211 275\" stroke=\"black\" stroke-width=\"1\"/><path d=\"M 264 200 264 277\" stroke=\"black\" stroke-width=\"1\"/><path d=\"M 264 200 340 186\" stroke=\"black\" stroke-width=\"1\"/><path d=\"M 264 200 282 125\" stroke=\"black\" stroke-width=\"1\"/><path d=\"M 264 200 188 252\" stroke=\"black\" stroke-width=\"1\"/><path d=\"M 264 200 122 212\" stroke=\"black\" stroke-width=\"1\"/><path d=\"M 264 200 335 236\" stroke=\"black\" stroke-width=\"1\"/><path d=\"M 264 200 282 153\" stroke=\"black\" stroke-width=\"1\"/><path d=\"M 264 200 388 216\" stroke=\"black\" stroke-width=\"1\"/><path d=\"M 264 200 331 143\" stroke=\"black\" stroke-width=\"1\"/><path d=\"M 264 200 420 202\" stroke=\"black\" stroke-width=\"1\"/><path d=\"M 264 200 153 125\" stroke=\"black\" stroke-width=\"1\"/><path d=\"M 353 168 264 200\" stroke=\"black\" stroke-width=\"1\"/><path d=\"M 353 168 251 143\" stroke=\"black\" stroke-width=\"1\"/><path d=\"M 353 168 304 191\" stroke=\"black\" stroke-width=\"1\"/><path d=\"M 353 168 340 186\" stroke=\"black\" stroke-width=\"1\"/><path d=\"M 353 168 282 153\" stroke=\"black\" stroke-width=\"1\"/><path d=\"M 353 168 388 216\" stroke=\"black\" stroke-width=\"1\"/><path d=\"M 353 168 331 143\" stroke=\"black\" stroke-width=\"1\"/><path d=\"M 353 168 420 202\" stroke=\"black\" stroke-width=\"1\"/><path d=\"M 353 168 344 107\" stroke=\"black\" stroke-width=\"1\"/><path d=\"M 251 143 264 200\" stroke=\"black\" stroke-width=\"1\"/><path d=\"M 251 143 353 168\" stroke=\"black\" stroke-width=\"1\"/><path d=\"M 251 143 304 191\" stroke=\"black\" stroke-width=\"1\"/><path d=\"M 251 143 340 186\" stroke=\"black\" stroke-width=\"1\"/><path d=\"M 251 143 282 125\" stroke=\"black\" stroke-width=\"1\"/><path d=\"M 251 143 197 100\" stroke=\"black\" stroke-width=\"1\"/><path d=\"M 251 143 282 153\" stroke=\"black\" stroke-width=\"1\"/><path d=\"M 251 143 122 103\" stroke=\"black\" stroke-width=\"1\"/><path d=\"M 251 143 197 120\" stroke=\"black\" stroke-width=\"1\"/><path d=\"M 251 143 260 73\" stroke=\"black\" stroke-width=\"1\"/><path d=\"M 304 191 264 200\" stroke=\"black\" stroke-width=\"1\"/><path d=\"M 304 191 353 168\" stroke=\"black\" stroke-width=\"1\"/><path d=\"M 304 191 251 143\" stroke=\"black\" stroke-width=\"1\"/><path d=\"M 304 191 340 186\" stroke=\"black\" stroke-width=\"1\"/><path d=\"M 304 191 335 236\" stroke=\"black\" stroke-width=\"1\"/><path d=\"M 304 191 282 153\" stroke=\"black\" stroke-width=\"1\"/><path d=\"M 255 255 264 200\" stroke=\"black\" stroke-width=\"1\"/><path d=\"M 255 255 264 277\" stroke=\"black\" stroke-width=\"1\"/><path d=\"M 255 255 188 252\" stroke=\"black\" stroke-width=\"1\"/><path d=\"M 211 275 264 200\" stroke=\"black\" stroke-width=\"1\"/><path d=\"M 211 275 264 277\" stroke=\"black\" stroke-width=\"1\"/><path d=\"M 211 275 188 252\" stroke=\"black\" stroke-width=\"1\"/><path d=\"M 211 275 220 320\" stroke=\"black\" stroke-width=\"1\"/><path d=\"M 264 277 264 200\" stroke=\"black\" stroke-width=\"1\"/><path d=\"M 264 277 255 255\" stroke=\"black\" stroke-width=\"1\"/><path d=\"M 264 277 211 275\" stroke=\"black\" stroke-width=\"1\"/><path d=\"M 264 277 220 320\" stroke=\"black\" stroke-width=\"1\"/><path d=\"M 340 186 264 200\" stroke=\"black\" stroke-width=\"1\"/><path d=\"M 340 186 353 168\" stroke=\"black\" stroke-width=\"1\"/><path d=\"M 340 186 251 143\" stroke=\"black\" stroke-width=\"1\"/><path d=\"M 340 186 304 191\" stroke=\"black\" stroke-width=\"1\"/><path d=\"M 282 125 264 200\" stroke=\"black\" stroke-width=\"1\"/><path d=\"M 282 125 251 143\" stroke=\"black\" stroke-width=\"1\"/><path d=\"M 282 125 344 107\" stroke=\"black\" stroke-width=\"1\"/><path d=\"M 282 125 260 73\" stroke=\"black\" stroke-width=\"1\"/><path d=\"M 282 125 246 82\" stroke=\"black\" stroke-width=\"1\"/><path d=\"M 197 100 251 143\" stroke=\"black\" stroke-width=\"1\"/><path d=\"M 197 100 246 82\" stroke=\"black\" stroke-width=\"1\"/><path d=\"M 188 252 264 200\" stroke=\"black\" stroke-width=\"1\"/><path d=\"M 188 252 255 255\" stroke=\"black\" stroke-width=\"1\"/><path d=\"M 188 252 211 275\" stroke=\"black\" stroke-width=\"1\"/><path d=\"M 122 212 264 200\" stroke=\"black\" stroke-width=\"1\"/><path d=\"M 335 236 264 200\" stroke=\"black\" stroke-width=\"1\"/><path d=\"M 335 236 304 191\" stroke=\"black\" stroke-width=\"1\"/><path d=\"M 282 153 264 200\" stroke=\"black\" stroke-width=\"1\"/><path d=\"M 282 153 353 168\" stroke=\"black\" stroke-width=\"1\"/><path d=\"M 282 153 251 143\" stroke=\"black\" stroke-width=\"1\"/><path d=\"M 282 153 304 191\" stroke=\"black\" stroke-width=\"1\"/><path d=\"M 282 153 246 82\" stroke=\"black\" stroke-width=\"1\"/><path d=\"M 348 43 260 73\" stroke=\"black\" stroke-width=\"1\"/><path d=\"M 348 43 246 82\" stroke=\"black\" stroke-width=\"1\"/><path d=\"M 273 27 260 73\" stroke=\"black\" stroke-width=\"1\"/><path d=\"M 273 27 246 82\" stroke=\"black\" stroke-width=\"1\"/><path d=\"M 220 320 211 275\" stroke=\"black\" stroke-width=\"1\"/><path d=\"M 220 320 264 277\" stroke=\"black\" stroke-width=\"1\"/><path d=\"M 388 216 264 200\" stroke=\"black\" stroke-width=\"1\"/><path d=\"M 388 216 353 168\" stroke=\"black\" stroke-width=\"1\"/><path d=\"M 313 34 260 73\" stroke=\"black\" stroke-width=\"1\"/><path d=\"M 313 34 246 82\" stroke=\"black\" stroke-width=\"1\"/><path d=\"M 331 143 264 200\" stroke=\"black\" stroke-width=\"1\"/><path d=\"M 331 143 353 168\" stroke=\"black\" stroke-width=\"1\"/><path d=\"M 331 143 246 82\" stroke=\"black\" stroke-width=\"1\"/><path d=\"M 366 61 260 73\" stroke=\"black\" stroke-width=\"1\"/><path d=\"M 366 61 246 82\" stroke=\"black\" stroke-width=\"1\"/><path d=\"M 420 202 264 200\" stroke=\"black\" stroke-width=\"1\"/><path d=\"M 420 202 353 168\" stroke=\"black\" stroke-width=\"1\"/><path d=\"M 228 32 260 73\" stroke=\"black\" stroke-width=\"1\"/><path d=\"M 228 32 246 82\" stroke=\"black\" stroke-width=\"1\"/><path d=\"M 131 68 28 91\" stroke=\"black\" stroke-width=\"1\"/><path d=\"M 131 68 122 103\" stroke=\"black\" stroke-width=\"1\"/><path d=\"M 131 68 171 45\" stroke=\"black\" stroke-width=\"1\"/><path d=\"M 131 68 260 73\" stroke=\"black\" stroke-width=\"1\"/><path d=\"M 131 68 246 82\" stroke=\"black\" stroke-width=\"1\"/><path d=\"M 20 116 28 91\" stroke=\"black\" stroke-width=\"1\"/><path d=\"M 20 116 122 103\" stroke=\"black\" stroke-width=\"1\"/><path d=\"M 20 116 153 125\" stroke=\"black\" stroke-width=\"1\"/><path d=\"M 28 91 131 68\" stroke=\"black\" stroke-width=\"1\"/><path d=\"M 28 91 20 116\" stroke=\"black\" stroke-width=\"1\"/><path d=\"M 28 91 153 125\" stroke=\"black\" stroke-width=\"1\"/><path d=\"M 162 20 171 45\" stroke=\"black\" stroke-width=\"1\"/><path d=\"M 162 20 246 82\" stroke=\"black\" stroke-width=\"1\"/><path d=\"M 122 103 251 143\" stroke=\"black\" stroke-width=\"1\"/><path d=\"M 122 103 131 68\" stroke=\"black\" stroke-width=\"1\"/><path d=\"M 122 103 20 116\" stroke=\"black\" stroke-width=\"1\"/><path d=\"M 122 103 246 82\" stroke=\"black\" stroke-width=\"1\"/><path d=\"M 197 120 251 143\" stroke=\"black\" stroke-width=\"1\"/><path d=\"M 197 120 153 125\" stroke=\"black\" stroke-width=\"1\"/><path d=\"M 197 120 246 82\" stroke=\"black\" stroke-width=\"1\"/><path d=\"M 171 45 131 68\" stroke=\"black\" stroke-width=\"1\"/><path d=\"M 171 45 162 20\" stroke=\"black\" stroke-width=\"1\"/><path d=\"M 171 45 260 73\" stroke=\"black\" stroke-width=\"1\"/><path d=\"M 171 45 246 82\" stroke=\"black\" stroke-width=\"1\"/><path d=\"M 344 107 353 168\" stroke=\"black\" stroke-width=\"1\"/><path d=\"M 344 107 282 125\" stroke=\"black\" stroke-width=\"1\"/><path d=\"M 344 107 260 73\" stroke=\"black\" stroke-width=\"1\"/><path d=\"M 344 107 246 82\" stroke=\"black\" stroke-width=\"1\"/><path d=\"M 153 125 264 200\" stroke=\"black\" stroke-width=\"1\"/><path d=\"M 153 125 20 116\" stroke=\"black\" stroke-width=\"1\"/><path d=\"M 153 125 28 91\" stroke=\"black\" stroke-width=\"1\"/><path d=\"M 153 125 197 120\" stroke=\"black\" stroke-width=\"1\"/><path d=\"M 153 125 260 73\" stroke=\"black\" stroke-width=\"1\"/><path d=\"M 153 125 246 82\" stroke=\"black\" stroke-width=\"1\"/><path d=\"M 260 73 251 143\" stroke=\"black\" stroke-width=\"1\"/><path d=\"M 260 73 282 125\" stroke=\"black\" stroke-width=\"1\"/><path d=\"M 260 73 348 43\" stroke=\"black\" stroke-width=\"1\"/><path d=\"M 260 73 273 27\" stroke=\"black\" stroke-width=\"1\"/><path d=\"M 260 73 313 34\" stroke=\"black\" stroke-width=\"1\"/><path d=\"M 260 73 366 61\" stroke=\"black\" stroke-width=\"1\"/><path d=\"M 260 73 228 32\" stroke=\"black\" stroke-width=\"1\"/><path d=\"M 260 73 131 68\" stroke=\"black\" stroke-width=\"1\"/><path d=\"M 260 73 171 45\" stroke=\"black\" stroke-width=\"1\"/><path d=\"M 260 73 344 107\" stroke=\"black\" stroke-width=\"1\"/><path d=\"M 260 73 153 125\" stroke=\"black\" stroke-width=\"1\"/><path d=\"M 260 73 246 82\" stroke=\"black\" stroke-width=\"1\"/><path d=\"M 246 82 282 125\" stroke=\"black\" stroke-width=\"1\"/><path d=\"M 246 82 197 100\" stroke=\"black\" stroke-width=\"1\"/><path d=\"M 246 82 282 153\" stroke=\"black\" stroke-width=\"1\"/><path d=\"M 246 82 348 43\" stroke=\"black\" stroke-width=\"1\"/><path d=\"M 246 82 273 27\" stroke=\"black\" stroke-width=\"1\"/><path d=\"M 246 82 313 34\" stroke=\"black\" stroke-width=\"1\"/><path d=\"M 246 82 331 143\" stroke=\"black\" stroke-width=\"1\"/><path d=\"M 246 82 366 61\" stroke=\"black\" stroke-width=\"1\"/><path d=\"M 246 82 228 32\" stroke=\"black\" stroke-width=\"1\"/><path d=\"M 246 82 131 68\" stroke=\"black\" stroke-width=\"1\"/><path d=\"M 246 82 162 20\" stroke=\"black\" stroke-width=\"1\"/><path d=\"M 246 82 122 103\" stroke=\"black\" stroke-width=\"1\"/><path d=\"M 246 82 197 120\" stroke=\"black\" stroke-width=\"1\"/><path d=\"M 246 82 171 45\" stroke=\"black\" stroke-width=\"1\"/><path d=\"M 246 82 344 107\" stroke=\"black\" stroke-width=\"1\"/><path d=\"M 246 82 153 125\" stroke=\"black\" stroke-width=\"1\"/><path d=\"M 246 82 260 73\" stroke=\"black\" stroke-width=\"1\"/><circle cx=\"264\" cy=\"200\" r=\"7.0\" style=\"fill:red;stroke:black;stroke-width:1.0\"/><circle cx=\"353\" cy=\"168\" r=\"7.0\" style=\"fill:red;stroke:black;stroke-width:1.0\"/><circle cx=\"251\" cy=\"143\" r=\"7.0\" style=\"fill:red;stroke:black;stroke-width:1.0\"/><circle cx=\"304\" cy=\"191\" r=\"7.0\" style=\"fill:red;stroke:black;stroke-width:1.0\"/><circle cx=\"255\" cy=\"255\" r=\"7.0\" style=\"fill:red;stroke:black;stroke-width:1.0\"/><circle cx=\"211\" cy=\"275\" r=\"7.0\" style=\"fill:red;stroke:black;stroke-width:1.0\"/><circle cx=\"264\" cy=\"277\" r=\"7.0\" style=\"fill:red;stroke:black;stroke-width:1.0\"/><circle cx=\"340\" cy=\"186\" r=\"7.0\" style=\"fill:red;stroke:black;stroke-width:1.0\"/><circle cx=\"282\" cy=\"125\" r=\"7.0\" style=\"fill:red;stroke:black;stroke-width:1.0\"/><circle cx=\"197\" cy=\"100\" r=\"7.0\" style=\"fill:blue;stroke:black;stroke-width:1.0\"/><circle cx=\"188\" cy=\"252\" r=\"7.0\" style=\"fill:red;stroke:black;stroke-width:1.0\"/><circle cx=\"122\" cy=\"212\" r=\"7.0\" style=\"fill:red;stroke:black;stroke-width:1.0\"/><circle cx=\"335\" cy=\"236\" r=\"7.0\" style=\"fill:red;stroke:black;stroke-width:1.0\"/><circle cx=\"282\" cy=\"153\" r=\"7.0\" style=\"fill:red;stroke:black;stroke-width:1.0\"/><circle cx=\"348\" cy=\"43\" r=\"7.0\" style=\"fill:blue;stroke:black;stroke-width:1.0\"/><circle cx=\"273\" cy=\"27\" r=\"7.0\" style=\"fill:blue;stroke:black;stroke-width:1.0\"/><circle cx=\"220\" cy=\"320\" r=\"7.0\" style=\"fill:red;stroke:black;stroke-width:1.0\"/><circle cx=\"388\" cy=\"216\" r=\"7.0\" style=\"fill:red;stroke:black;stroke-width:1.0\"/><circle cx=\"313\" cy=\"34\" r=\"7.0\" style=\"fill:blue;stroke:black;stroke-width:1.0\"/><circle cx=\"331\" cy=\"143\" r=\"7.0\" style=\"fill:red;stroke:black;stroke-width:1.0\"/><circle cx=\"366\" cy=\"61\" r=\"7.0\" style=\"fill:blue;stroke:black;stroke-width:1.0\"/><circle cx=\"420\" cy=\"202\" r=\"7.0\" style=\"fill:red;stroke:black;stroke-width:1.0\"/><circle cx=\"228\" cy=\"32\" r=\"7.0\" style=\"fill:blue;stroke:black;stroke-width:1.0\"/><circle cx=\"131\" cy=\"68\" r=\"7.0\" style=\"fill:blue;stroke:black;stroke-width:1.0\"/><circle cx=\"20\" cy=\"116\" r=\"7.0\" style=\"fill:blue;stroke:black;stroke-width:1.0\"/><circle cx=\"28\" cy=\"91\" r=\"7.0\" style=\"fill:blue;stroke:black;stroke-width:1.0\"/><circle cx=\"162\" cy=\"20\" r=\"7.0\" style=\"fill:blue;stroke:black;stroke-width:1.0\"/><circle cx=\"122\" cy=\"103\" r=\"7.0\" style=\"fill:blue;stroke:black;stroke-width:1.0\"/><circle cx=\"197\" cy=\"120\" r=\"7.0\" style=\"fill:blue;stroke:black;stroke-width:1.0\"/><circle cx=\"171\" cy=\"45\" r=\"7.0\" style=\"fill:blue;stroke:black;stroke-width:1.0\"/><circle cx=\"344\" cy=\"107\" r=\"7.0\" style=\"fill:blue;stroke:black;stroke-width:1.0\"/><circle cx=\"153\" cy=\"125\" r=\"7.0\" style=\"fill:blue;stroke:black;stroke-width:1.0\"/><circle cx=\"260\" cy=\"73\" r=\"7.0\" style=\"fill:blue;stroke:black;stroke-width:1.0\"/><circle cx=\"246\" cy=\"82\" r=\"7.0\" style=\"fill:blue;stroke:black;stroke-width:1.0\"/></svg>"
      ],
      "text/plain": [
       "<IPython.core.display.SVG object>"
      ]
     },
     "execution_count": 8,
     "metadata": {},
     "output_type": "execute_result"
    }
   ],
   "source": [
    "image = svg_graph(adjacency, position, labels=labels_true)\n",
    "SVG(image)"
   ]
  },
  {
   "cell_type": "markdown",
   "metadata": {},
   "source": [
    "## To do\n",
    "\n",
    "* Cluster the graph by the hierarchical Louvain algorithm.\n",
    "* Display the dendrogram.\n",
    "* How many clusters are there at depth 2?"
   ]
  },
  {
   "cell_type": "code",
   "execution_count": 9,
   "metadata": {},
   "outputs": [],
   "source": [
    "louvain = LouvainHierarchy()"
   ]
  },
  {
   "cell_type": "code",
   "execution_count": 10,
   "metadata": {},
   "outputs": [],
   "source": [
    "dendrogram = louvain.fit_transform(adjacency)"
   ]
  },
  {
   "cell_type": "code",
   "execution_count": 11,
   "metadata": {},
   "outputs": [
    {
     "data": {
      "image/svg+xml": [
       "<svg height=\"320\" width=\"420\" xmlns=\"http://www.w3.org/2000/svg\"><path d=\"M 374.7058823529412 310 374.7058823529412 310.0\" stroke=\"blue\" stroke-width=\"2\"/><path d=\"M 386.47058823529414 310 386.47058823529414 310.0\" stroke=\"blue\" stroke-width=\"2\"/><path d=\"M 374.7058823529412 310.0 386.47058823529414 310.0\" stroke=\"blue\" stroke-width=\"2\"/><path d=\"M 339.4117647058824 310 339.4117647058824 310.0\" stroke=\"blue\" stroke-width=\"2\"/><path d=\"M 351.1764705882353 310 351.1764705882353 310.0\" stroke=\"blue\" stroke-width=\"2\"/><path d=\"M 339.4117647058824 310.0 351.1764705882353 310.0\" stroke=\"blue\" stroke-width=\"2\"/><path d=\"M 304.11764705882354 310 304.11764705882354 310.0\" stroke=\"blue\" stroke-width=\"2\"/><path d=\"M 315.88235294117646 310 315.88235294117646 310.0\" stroke=\"blue\" stroke-width=\"2\"/><path d=\"M 304.11764705882354 310.0 315.88235294117646 310.0\" stroke=\"blue\" stroke-width=\"2\"/><path d=\"M 268.82352941176475 310 268.82352941176475 310.0\" stroke=\"blue\" stroke-width=\"2\"/><path d=\"M 280.5882352941177 310 280.5882352941177 310.0\" stroke=\"blue\" stroke-width=\"2\"/><path d=\"M 268.82352941176475 310.0 280.5882352941177 310.0\" stroke=\"blue\" stroke-width=\"2\"/><path d=\"M 115.88235294117648 310 115.88235294117648 310.0\" stroke=\"green\" stroke-width=\"2\"/><path d=\"M 127.64705882352942 310 127.64705882352942 310.0\" stroke=\"green\" stroke-width=\"2\"/><path d=\"M 115.88235294117648 310.0 127.64705882352942 310.0\" stroke=\"green\" stroke-width=\"2\"/><path d=\"M 92.3529411764706 310 92.3529411764706 310.0\" stroke=\"green\" stroke-width=\"2\"/><path d=\"M 104.11764705882354 310 104.11764705882354 310.0\" stroke=\"green\" stroke-width=\"2\"/><path d=\"M 92.3529411764706 310.0 104.11764705882354 310.0\" stroke=\"green\" stroke-width=\"2\"/><path d=\"M 380.5882352941177 310.0 380.5882352941177 310.0\" stroke=\"blue\" stroke-width=\"2\"/><path d=\"M 398.2352941176471 310 398.2352941176471 310.0\" stroke=\"blue\" stroke-width=\"2\"/><path d=\"M 380.5882352941177 310.0 398.2352941176471 310.0\" stroke=\"blue\" stroke-width=\"2\"/><path d=\"M 345.29411764705884 310.0 345.29411764705884 310.0\" stroke=\"blue\" stroke-width=\"2\"/><path d=\"M 362.9411764705883 310 362.9411764705883 310.0\" stroke=\"blue\" stroke-width=\"2\"/><path d=\"M 345.29411764705884 310.0 362.9411764705883 310.0\" stroke=\"blue\" stroke-width=\"2\"/><path d=\"M 310.0 310.0 310.0 310.0\" stroke=\"blue\" stroke-width=\"2\"/><path d=\"M 327.64705882352945 310 327.64705882352945 310.0\" stroke=\"blue\" stroke-width=\"2\"/><path d=\"M 310.0 310.0 327.64705882352945 310.0\" stroke=\"blue\" stroke-width=\"2\"/><path d=\"M 274.7058823529412 310.0 274.7058823529412 310.0\" stroke=\"blue\" stroke-width=\"2\"/><path d=\"M 292.3529411764706 310 292.3529411764706 310.0\" stroke=\"blue\" stroke-width=\"2\"/><path d=\"M 274.7058823529412 310.0 292.3529411764706 310.0\" stroke=\"blue\" stroke-width=\"2\"/><path d=\"M 10.0 310 10.0 210.0\" stroke=\"orange\" stroke-width=\"2\"/><path d=\"M 21.764705882352942 310 21.764705882352942 210.0\" stroke=\"orange\" stroke-width=\"2\"/><path d=\"M 10.0 210.0 21.764705882352942 210.0\" stroke=\"orange\" stroke-width=\"2\"/><path d=\"M 33.529411764705884 310 33.529411764705884 210.0\" stroke=\"orange\" stroke-width=\"2\"/><path d=\"M 45.294117647058826 310 45.294117647058826 210.0\" stroke=\"orange\" stroke-width=\"2\"/><path d=\"M 33.529411764705884 210.0 45.294117647058826 210.0\" stroke=\"orange\" stroke-width=\"2\"/><path d=\"M 139.41176470588238 310 139.41176470588238 210.0\" stroke=\"red\" stroke-width=\"2\"/><path d=\"M 151.1764705882353 310 151.1764705882353 210.0\" stroke=\"red\" stroke-width=\"2\"/><path d=\"M 139.41176470588238 210.0 151.1764705882353 210.0\" stroke=\"red\" stroke-width=\"2\"/><path d=\"M 162.94117647058823 310 162.94117647058823 210.0\" stroke=\"red\" stroke-width=\"2\"/><path d=\"M 174.7058823529412 310 174.7058823529412 210.0\" stroke=\"red\" stroke-width=\"2\"/><path d=\"M 162.94117647058823 210.0 174.7058823529412 210.0\" stroke=\"red\" stroke-width=\"2\"/><path d=\"M 68.82352941176471 310 68.82352941176471 210.0\" stroke=\"green\" stroke-width=\"2\"/><path d=\"M 80.58823529411765 310 80.58823529411765 210.0\" stroke=\"green\" stroke-width=\"2\"/><path d=\"M 68.82352941176471 210.0 80.58823529411765 210.0\" stroke=\"green\" stroke-width=\"2\"/><path d=\"M 186.47058823529414 310 186.47058823529414 210.0\" stroke=\"red\" stroke-width=\"2\"/><path d=\"M 198.23529411764707 310 198.23529411764707 210.0\" stroke=\"red\" stroke-width=\"2\"/><path d=\"M 186.47058823529414 210.0 198.23529411764707 210.0\" stroke=\"red\" stroke-width=\"2\"/><path d=\"M 354.11764705882354 310.0 354.11764705882354 210.0\" stroke=\"blue\" stroke-width=\"2\"/><path d=\"M 389.4117647058824 310.0 389.4117647058824 210.0\" stroke=\"blue\" stroke-width=\"2\"/><path d=\"M 354.11764705882354 210.0 389.4117647058824 210.0\" stroke=\"blue\" stroke-width=\"2\"/><path d=\"M 283.5294117647059 310.0 283.5294117647059 210.0\" stroke=\"blue\" stroke-width=\"2\"/><path d=\"M 318.82352941176475 310.0 318.82352941176475 210.0\" stroke=\"blue\" stroke-width=\"2\"/><path d=\"M 283.5294117647059 210.0 318.82352941176475 210.0\" stroke=\"blue\" stroke-width=\"2\"/><path d=\"M 192.3529411764706 210.0 192.3529411764706 210.0\" stroke=\"red\" stroke-width=\"2\"/><path d=\"M 210.0 310 210.0 210.0\" stroke=\"red\" stroke-width=\"2\"/><path d=\"M 192.3529411764706 210.0 210.0 210.0\" stroke=\"red\" stroke-width=\"2\"/><path d=\"M 201.1764705882353 210.0 201.1764705882353 210.0\" stroke=\"red\" stroke-width=\"2\"/><path d=\"M 221.76470588235296 310 221.76470588235296 210.0\" stroke=\"red\" stroke-width=\"2\"/><path d=\"M 201.1764705882353 210.0 221.76470588235296 210.0\" stroke=\"red\" stroke-width=\"2\"/><path d=\"M 211.47058823529414 210.0 211.47058823529414 210.0\" stroke=\"red\" stroke-width=\"2\"/><path d=\"M 233.5294117647059 310 233.5294117647059 210.0\" stroke=\"red\" stroke-width=\"2\"/><path d=\"M 211.47058823529414 210.0 233.5294117647059 210.0\" stroke=\"red\" stroke-width=\"2\"/><path d=\"M 222.50000000000003 210.0 222.50000000000003 210.0\" stroke=\"red\" stroke-width=\"2\"/><path d=\"M 245.29411764705884 310 245.29411764705884 210.0\" stroke=\"red\" stroke-width=\"2\"/><path d=\"M 222.50000000000003 210.0 245.29411764705884 210.0\" stroke=\"red\" stroke-width=\"2\"/><path d=\"M 233.89705882352945 210.0 233.89705882352945 210.0\" stroke=\"red\" stroke-width=\"2\"/><path d=\"M 257.05882352941177 310 257.05882352941177 210.0\" stroke=\"red\" stroke-width=\"2\"/><path d=\"M 233.89705882352945 210.0 257.05882352941177 210.0\" stroke=\"red\" stroke-width=\"2\"/><path d=\"M 98.23529411764707 310.0 98.23529411764707 210.0\" stroke=\"green\" stroke-width=\"2\"/><path d=\"M 121.76470588235296 310.0 121.76470588235296 210.0\" stroke=\"green\" stroke-width=\"2\"/><path d=\"M 98.23529411764707 210.0 121.76470588235296 210.0\" stroke=\"green\" stroke-width=\"2\"/><path d=\"M 39.411764705882355 210.0 39.411764705882355 210.0\" stroke=\"orange\" stroke-width=\"2\"/><path d=\"M 57.05882352941177 310 57.05882352941177 210.0\" stroke=\"orange\" stroke-width=\"2\"/><path d=\"M 39.411764705882355 210.0 57.05882352941177 210.0\" stroke=\"orange\" stroke-width=\"2\"/><path d=\"M 301.17647058823536 210.0 301.17647058823536 110.0\" stroke=\"blue\" stroke-width=\"2\"/><path d=\"M 371.7647058823529 210.0 371.7647058823529 110.0\" stroke=\"blue\" stroke-width=\"2\"/><path d=\"M 301.17647058823536 110.0 371.7647058823529 110.0\" stroke=\"blue\" stroke-width=\"2\"/><path d=\"M 145.29411764705884 210.0 145.29411764705884 110.0\" stroke=\"red\" stroke-width=\"2\"/><path d=\"M 168.8235294117647 210.0 168.8235294117647 110.0\" stroke=\"red\" stroke-width=\"2\"/><path d=\"M 145.29411764705884 110.0 168.8235294117647 110.0\" stroke=\"red\" stroke-width=\"2\"/><path d=\"M 157.05882352941177 110.0 157.05882352941177 110.0\" stroke=\"red\" stroke-width=\"2\"/><path d=\"M 245.4779411764706 210.0 245.4779411764706 110.0\" stroke=\"red\" stroke-width=\"2\"/><path d=\"M 157.05882352941177 110.0 245.4779411764706 110.0\" stroke=\"red\" stroke-width=\"2\"/><path d=\"M 74.70588235294119 210.0 74.70588235294119 110.0\" stroke=\"green\" stroke-width=\"2\"/><path d=\"M 110.00000000000001 210.0 110.00000000000001 110.0\" stroke=\"green\" stroke-width=\"2\"/><path d=\"M 74.70588235294119 110.0 110.00000000000001 110.0\" stroke=\"green\" stroke-width=\"2\"/><path d=\"M 15.882352941176471 210.0 15.882352941176471 110.0\" stroke=\"orange\" stroke-width=\"2\"/><path d=\"M 48.23529411764706 210.0 48.23529411764706 110.0\" stroke=\"orange\" stroke-width=\"2\"/><path d=\"M 15.882352941176471 110.0 48.23529411764706 110.0\" stroke=\"orange\" stroke-width=\"2\"/><path d=\"M 32.05882352941177 110.0 32.05882352941177 10.0\" stroke=\"black\" stroke-width=\"2\"/><path d=\"M 92.35294117647061 110.0 92.35294117647061 10.0\" stroke=\"black\" stroke-width=\"2\"/><path d=\"M 32.05882352941177 10.0 92.35294117647061 10.0\" stroke=\"black\" stroke-width=\"2\"/><path d=\"M 62.20588235294119 10.0 62.20588235294119 10.0\" stroke=\"black\" stroke-width=\"2\"/><path d=\"M 201.2683823529412 110.0 201.2683823529412 10.0\" stroke=\"black\" stroke-width=\"2\"/><path d=\"M 62.20588235294119 10.0 201.2683823529412 10.0\" stroke=\"black\" stroke-width=\"2\"/><path d=\"M 131.7371323529412 10.0 131.7371323529412 10.0\" stroke=\"black\" stroke-width=\"2\"/><path d=\"M 336.47058823529414 110.0 336.47058823529414 10.0\" stroke=\"black\" stroke-width=\"2\"/><path d=\"M 131.7371323529412 10.0 336.47058823529414 10.0\" stroke=\"black\" stroke-width=\"2\"/></svg>"
      ],
      "text/plain": [
       "<IPython.core.display.SVG object>"
      ]
     },
     "execution_count": 11,
     "metadata": {},
     "output_type": "execute_result"
    }
   ],
   "source": [
    "image = svg_dendrogram(dendrogram)\n",
    "SVG(image)"
   ]
  },
  {
   "cell_type": "markdown",
   "metadata": {},
   "source": [
    "## To do\n",
    "\n",
    "* Cluster the graph by the Paris algorithm.\n",
    "* Display the dendrogram.\n",
    "* Display the graph with the top-2 clusters. How many nodes are misclassified compared to the ground truth?\n",
    "* Display the graph with the top-4 clusters and the corresponding aggregate dendrogram.\n",
    "\n",
    "**Hint:** Check the parameters of the function ``cut_straight``."
   ]
  },
  {
   "cell_type": "code",
   "execution_count": null,
   "metadata": {},
   "outputs": [],
   "source": [
    "paris = Paris()"
   ]
  },
  {
   "cell_type": "code",
   "execution_count": null,
   "metadata": {},
   "outputs": [],
   "source": [
    "dendrogram = paris.fit_transform(adjacency)"
   ]
  },
  {
   "cell_type": "markdown",
   "metadata": {},
   "source": [
    "## Openflights\n"
   ]
  },
  {
   "cell_type": "code",
   "execution_count": null,
   "metadata": {},
   "outputs": [],
   "source": [
    "graph = openflights"
   ]
  },
  {
   "cell_type": "code",
   "execution_count": null,
   "metadata": {},
   "outputs": [],
   "source": [
    "adjacency = graph.adjacency\n",
    "position = graph.position\n",
    "names = graph.names"
   ]
  },
  {
   "cell_type": "code",
   "execution_count": null,
   "metadata": {},
   "outputs": [],
   "source": [
    "image = svg_graph(adjacency, position, width=800, height=400, node_size=3, display_edges=False)\n",
    "SVG(image)"
   ]
  },
  {
   "cell_type": "markdown",
   "metadata": {},
   "source": [
    "## To do\n",
    "\n",
    "* Display the same world map with the top-10 clusters found by Paris.\n",
    "* Display the aggregate dendrogram formed by the top-50 clusters found by Paris, with the name of the top airport  (in traffic) of each cluster. <br>**Hint:** Use the parameters ``rotate``, ``n_clusters`` and ``scale`` for better visualization of the dendrogram."
   ]
  },
  {
   "cell_type": "markdown",
   "metadata": {},
   "source": [
    "## 2. Digraphs"
   ]
  },
  {
   "cell_type": "markdown",
   "metadata": {},
   "source": [
    "## Wikipedia Vitals"
   ]
  },
  {
   "cell_type": "code",
   "execution_count": null,
   "metadata": {},
   "outputs": [],
   "source": [
    "graph = wikivitals"
   ]
  },
  {
   "cell_type": "code",
   "execution_count": null,
   "metadata": {},
   "outputs": [],
   "source": [
    "adjacency = graph.adjacency\n",
    "names = graph.names"
   ]
  },
  {
   "cell_type": "markdown",
   "metadata": {},
   "source": [
    "## To do\n",
    "\n",
    "* Cluster the graph by the Paris algorithm.\n",
    "* Give the size and top-5 articles of each of the top-25 clusters found by Paris.\n",
    "* Display the aggregate dendrogram formed by the top-25 clusters, with the name of the top article of each cluster.\n",
    "\n",
    "**Hint:** Use Personalized PageRank to get the top nodes of a cluster."
   ]
  },
  {
   "cell_type": "markdown",
   "metadata": {},
   "source": [
    "## To do\n",
    "\n",
    "* Complete the following function that returns the nested clusters from a target node in a dendrogram.\n",
    "* Give the size and top-5 articles of each nested cluster from the article **Riverboat**."
   ]
  },
  {
   "cell_type": "code",
   "execution_count": null,
   "metadata": {},
   "outputs": [],
   "source": [
    "def get_cluster_nested(dendrogram: np.ndarray, node: int): \n",
    "    '''Get nested clusters of a node.\n",
    "    \n",
    "    Parameters\n",
    "    ----------\n",
    "    dendrogram: \n",
    "        Dendrogram\n",
    "    node:\n",
    "        Target node\n",
    "        \n",
    "    Returns\n",
    "    -------\n",
    "    cluster_nested: list of list\n",
    "        Nested clusters, as a partition of the set of nodes (see the example below). \n",
    "        \n",
    "    Example\n",
    "    -------\n",
    "    >>> dendrogram = np.array([[0, 1, 1, 2], [2, 3, 1, 2], [4, 5, 1, 4]])\n",
    "    >>> get_cluster_nested(dendrogram, 0)\n",
    "    [[0], [1], [2, 3]]\n",
    "    '''\n",
    "    n = dendrogram.shape[0] + 1\n",
    "    \n",
    "    cluster = {i: [i] for i in range(n)}\n",
    "    cluster_nested = [[node]]\n",
    "    cluster_index = node\n",
    "    \n",
    "    for t in range(n - 1):\n",
    "        i = int(dendrogram[t][0])\n",
    "        j = int(dendrogram[t][1])\n",
    "        # to be completed\n",
    "        cluster[n + t] = cluster.pop(i) + cluster.pop(j)\n",
    "    \n",
    "    return cluster_nested"
   ]
  },
  {
   "cell_type": "code",
   "execution_count": null,
   "metadata": {},
   "outputs": [],
   "source": [
    "node = 10000"
   ]
  },
  {
   "cell_type": "code",
   "execution_count": null,
   "metadata": {},
   "outputs": [],
   "source": [
    "names[node]"
   ]
  },
  {
   "cell_type": "markdown",
   "metadata": {},
   "source": [
    "## 3. Bigraphs"
   ]
  },
  {
   "cell_type": "markdown",
   "metadata": {},
   "source": [
    "## Cinema"
   ]
  },
  {
   "cell_type": "code",
   "execution_count": null,
   "metadata": {},
   "outputs": [],
   "source": [
    "graph = cinema"
   ]
  },
  {
   "cell_type": "code",
   "execution_count": null,
   "metadata": {},
   "outputs": [],
   "source": [
    "biadjacency = graph.biadjacency\n",
    "movies = graph.names_row\n",
    "actors = graph.names_col"
   ]
  },
  {
   "cell_type": "markdown",
   "metadata": {},
   "source": [
    "## To do"
   ]
  },
  {
   "cell_type": "markdown",
   "metadata": {},
   "source": [
    "* Get the hierarchy of actors and the hierarchy of movies by the Paris algorithm. \n",
    "* Give the size and top-3 movies of each of the top-20 clusters of movies.\n",
    "* Give the size and top-3 actors of each of the top-20 clusters of actors.\n",
    "* Give the size and top-3 actors of each nested cluster of **Catherine Deneuve**. \n",
    "\n",
    "**Hint:** Use Personalized BiPageRank to get the top nodes of a cluster."
   ]
  },
  {
   "cell_type": "code",
   "execution_count": null,
   "metadata": {},
   "outputs": [],
   "source": [
    "biparis = BiParis()"
   ]
  },
  {
   "cell_type": "code",
   "execution_count": null,
   "metadata": {},
   "outputs": [],
   "source": [
    "biparis.fit(biadjacency)"
   ]
  },
  {
   "cell_type": "code",
   "execution_count": null,
   "metadata": {},
   "outputs": [],
   "source": [
    "deneuve = 2173"
   ]
  },
  {
   "cell_type": "code",
   "execution_count": null,
   "metadata": {},
   "outputs": [],
   "source": [
    "actors[deneuve]"
   ]
  }
 ],
 "metadata": {
  "anaconda-cloud": {},
  "hide_input": false,
  "kernelspec": {
   "display_name": "Python 3",
   "language": "python",
   "name": "python3"
  },
  "language_info": {
   "codemirror_mode": {
    "name": "ipython",
    "version": 3
   },
   "file_extension": ".py",
   "mimetype": "text/x-python",
   "name": "python",
   "nbconvert_exporter": "python",
   "pygments_lexer": "ipython3",
   "version": "3.6.9"
  }
 },
 "nbformat": 4,
 "nbformat_minor": 1
}
