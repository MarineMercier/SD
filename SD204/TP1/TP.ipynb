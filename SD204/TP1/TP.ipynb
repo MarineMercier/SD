{
 "cells": [
  {
   "cell_type": "markdown",
   "metadata": {},
   "source": [
    "# TP1 SD204"
   ]
  },
  {
   "cell_type": "code",
   "execution_count": 1,
   "metadata": {},
   "outputs": [],
   "source": [
    "import pandas\n",
    "import numpy as np \n",
    "import matplotlib.pyplot as plt\n",
    "from scipy.stats import t\n",
    "import math\n",
    "from sklearn.linear_model import LinearRegression"
   ]
  },
  {
   "cell_type": "markdown",
   "metadata": {},
   "source": [
    "### Question 1 "
   ]
  },
  {
   "cell_type": "code",
   "execution_count": 4,
   "metadata": {},
   "outputs": [
    {
     "data": {
      "text/html": [
       "<div>\n",
       "<style scoped>\n",
       "    .dataframe tbody tr th:only-of-type {\n",
       "        vertical-align: middle;\n",
       "    }\n",
       "\n",
       "    .dataframe tbody tr th {\n",
       "        vertical-align: top;\n",
       "    }\n",
       "\n",
       "    .dataframe thead th {\n",
       "        text-align: right;\n",
       "    }\n",
       "</style>\n",
       "<table border=\"1\" class=\"dataframe\">\n",
       "  <thead>\n",
       "    <tr style=\"text-align: right;\">\n",
       "      <th></th>\n",
       "      <th>year</th>\n",
       "      <th>gnp</th>\n",
       "      <th>invest</th>\n",
       "      <th>cpi</th>\n",
       "      <th>interest</th>\n",
       "    </tr>\n",
       "  </thead>\n",
       "  <tbody>\n",
       "    <tr>\n",
       "      <th>0</th>\n",
       "      <td>1968</td>\n",
       "      <td>873.4</td>\n",
       "      <td>133.3</td>\n",
       "      <td>82.54</td>\n",
       "      <td>5.16</td>\n",
       "    </tr>\n",
       "    <tr>\n",
       "      <th>1</th>\n",
       "      <td>1969</td>\n",
       "      <td>944.0</td>\n",
       "      <td>149.3</td>\n",
       "      <td>86.79</td>\n",
       "      <td>5.87</td>\n",
       "    </tr>\n",
       "    <tr>\n",
       "      <th>2</th>\n",
       "      <td>1970</td>\n",
       "      <td>992.7</td>\n",
       "      <td>144.2</td>\n",
       "      <td>91.45</td>\n",
       "      <td>5.95</td>\n",
       "    </tr>\n",
       "    <tr>\n",
       "      <th>3</th>\n",
       "      <td>1971</td>\n",
       "      <td>1077.6</td>\n",
       "      <td>166.4</td>\n",
       "      <td>96.01</td>\n",
       "      <td>4.88</td>\n",
       "    </tr>\n",
       "    <tr>\n",
       "      <th>4</th>\n",
       "      <td>1972</td>\n",
       "      <td>1185.9</td>\n",
       "      <td>195.0</td>\n",
       "      <td>100.00</td>\n",
       "      <td>4.50</td>\n",
       "    </tr>\n",
       "  </tbody>\n",
       "</table>\n",
       "</div>"
      ],
      "text/plain": [
       "   year     gnp  invest     cpi  interest\n",
       "0  1968   873.4   133.3   82.54      5.16\n",
       "1  1969   944.0   149.3   86.79      5.87\n",
       "2  1970   992.7   144.2   91.45      5.95\n",
       "3  1971  1077.6   166.4   96.01      4.88\n",
       "4  1972  1185.9   195.0  100.00      4.50"
      ]
     },
     "execution_count": 4,
     "metadata": {},
     "output_type": "execute_result"
    }
   ],
   "source": [
    "data=pandas.read_csv(\"invest.txt\",sep=' ')\n",
    "data.head(5)"
   ]
  },
  {
   "cell_type": "markdown",
   "metadata": {},
   "source": [
    "### Question 2"
   ]
  },
  {
   "cell_type": "code",
   "execution_count": 5,
   "metadata": {},
   "outputs": [
    {
     "data": {
      "image/png": "[encoded data removed]",
      "text/plain": [
       "<Figure size 432x288 with 1 Axes>"
      ]
     },
     "metadata": {
      "needs_background": "light"
     },
     "output_type": "display_data"
    }
   ],
   "source": [
    "gnp = data[\"gnp\"]\n",
    "invest = data[\"invest\"]\n",
    "\n",
    "plt.plot(gnp, invest, 'o')\n",
    "plt.xlabel(\"gnp\")\n",
    "plt.ylabel(\"invest\")\n",
    "plt.show()"
   ]
  },
  {
   "cell_type": "markdown",
   "metadata": {},
   "source": [
    "On travaille désormais avec le logarithme de ces deux ensemble de données."
   ]
  },
  {
   "cell_type": "code",
   "execution_count": 6,
   "metadata": {},
   "outputs": [
    {
     "data": {
      "image/png": "[encoded data removed]",
      "text/plain": [
       "<Figure size 432x288 with 1 Axes>"
      ]
     },
     "metadata": {
      "needs_background": "light"
     },
     "output_type": "display_data"
    }
   ],
   "source": [
    "gnp = np.log(gnp)\n",
    "invest = np.log(invest)\n",
    "\n",
    "plt.plot(gnp, invest, 'o')\n",
    "plt.xlabel(\"gnp\")\n",
    "plt.ylabel(\"invest\")\n",
    "plt.show()\n"
   ]
  },
  {
   "cell_type": "markdown",
   "metadata": {},
   "source": [
    "### Question 3 "
   ]
  },
  {
   "cell_type": "code",
   "execution_count": 7,
   "metadata": {},
   "outputs": [
    {
     "name": "stdout",
     "output_type": "stream",
     "text": [
      "The intercept Beta0 is  -1.9635913352301833\n",
      "The slope Beta1 is  1.015281401598871\n",
      "The standard deviation V_Beta0 is  0.40892201190733557\n",
      "The standard deviation V_Beta1 is  0.055383060354852805\n",
      "The determination coefficient R is  0.9627572956057855\n"
     ]
    }
   ],
   "source": [
    "# mean(l) return the mean of the values of the list l\n",
    "\n",
    "def mean(l):\n",
    "    n=len(l)\n",
    "    s=0\n",
    "    for i in range(n):\n",
    "        s+=l[i]\n",
    "    return s/n\n",
    "\n",
    "mean_x=mean(gnp)\n",
    "mean_y=mean(invest)\n",
    "n=len(gnp)\n",
    "\n",
    "\n",
    "# We calculate Beta1:\n",
    "\n",
    "numerator=0\n",
    "for i in range(n):\n",
    "    numerator+=(gnp[i]-mean_x)*(invest[i]-mean_y)\n",
    "denominator=0\n",
    "for i in range(n):\n",
    "    denominator+=(gnp[i]-mean_x)**2\n",
    "Beta1=numerator/denominator\n",
    "\n",
    "\n",
    "# We deduce Beta0\n",
    "\n",
    "Beta0=mean_y-Beta1*mean_x\n",
    "\n",
    "print \"The intercept Beta0 is \",Beta0\n",
    "print \"The slope Beta1 is \",Beta1\n",
    "\n",
    "#sigma_carre\n",
    " \n",
    "sigma_carre=0\n",
    "for i in range(n):\n",
    "    sigma_carre+=(invest[i]-(Beta0+Beta1*gnp[i]))**2\n",
    "\n",
    "sigma_carre=sigma_carre/(n-2)\n",
    "sigma=sigma_carre**0.5\n",
    "\n",
    "# We now calculate the standart deviation\n",
    "\n",
    "\n",
    "\n",
    "V_x=0\n",
    "for i in range(n):\n",
    "    V_x+=(gnp[i]-mean_x)**2\n",
    "V_Beta0=(sigma_carre*(1/n+((mean_x)**2/V_x)))**0.5\n",
    "\n",
    "print\"The standard deviation V_Beta0 is \",V_Beta0 \n",
    "\n",
    "V_Beta1=(sigma_carre/V_x)**0.5\n",
    "\n",
    "print\"The standard deviation V_Beta1 is \",V_Beta1\n",
    "\n",
    "#Determination coefficient \n",
    "\n",
    "numerator=0\n",
    "for i in range(n):\n",
    "    numerator+=(mean_y-(Beta0+Beta1*gnp[i]))**2\n",
    "denominator=0\n",
    "for i in range(n):\n",
    "    denominator+=(mean_y-invest[i])**2\n",
    "R=numerator/denominator\n",
    "\n",
    "print\"The determination coefficient R is \",R\n",
    "\n"
   ]
  },
  {
   "cell_type": "markdown",
   "metadata": {},
   "source": [
    "### Question 4 "
   ]
  },
  {
   "cell_type": "code",
   "execution_count": 8,
   "metadata": {},
   "outputs": [
    {
     "name": "stdout",
     "output_type": "stream",
     "text": [
      "The p-value is 1.1363709973011282e-10\n"
     ]
    }
   ],
   "source": [
    "value=Beta1/V_Beta1\n",
    "p_value = 2 * (1 - t.cdf(value, n-2))\n",
    "\n",
    "\n",
    "print \"The p-value is\", p_value"
   ]
  },
  {
   "cell_type": "markdown",
   "metadata": {},
   "source": [
    "### Question 5 "
   ]
  },
  {
   "cell_type": "code",
   "execution_count": 9,
   "metadata": {},
   "outputs": [
    {
     "name": "stdout",
     "output_type": "stream",
     "text": [
      "The necessary investment estimation when gnp=1000 is:  155.97942793105466\n"
     ]
    }
   ],
   "source": [
    "import numpy as np\n",
    "\n",
    "log_invest_1000=Beta0+(math.log(1000))*Beta1\n",
    "invest_1000=np.exp(log_invest_1000)\n",
    "\n",
    "print \"The necessary investment estimation when gnp=1000 is: \", invest_1000"
   ]
  },
  {
   "cell_type": "code",
   "execution_count": 10,
   "metadata": {},
   "outputs": [
    {
     "name": "stdout",
     "output_type": "stream",
     "text": [
      "The confidence interval for the 90% level is [148.868165884,163.430386834]\n",
      "The confidence interval for the 90% level is [132.648054212,183.414540698]\n"
     ]
    }
   ],
   "source": [
    "## Confidence interval \n",
    "\n",
    "q=t.ppf(0.95,n-2)\n",
    "c= 1/n + ((math.log(1000) - mean(gnp))**2)/V_x\n",
    "c2=1+c\n",
    "c=c**0.5\n",
    "c2=c2**0.5\n",
    "\n",
    "\n",
    "\n",
    "CI_max=math.exp(log_invest_1000+q*sigma*c)\n",
    "\n",
    "CI_min=math.exp(log_invest_1000-q*sigma*c)\n",
    "\n",
    "print(\"The confidence interval for the 90% level is [\"+str(CI_min)+\",\"+str(CI_max)+\"]\")\n",
    "\n",
    "## Prediction interval \n",
    "\n",
    "PI_max=math.exp(log_invest_1000+q*sigma*c2)\n",
    "\n",
    "PI_min=math.exp(log_invest_1000-q*sigma*c2)\n",
    "\n",
    "print(\"The confidence interval for the 90% level is [\"+str(PI_min)+\",\"+str(PI_max)+\"]\")"
   ]
  },
  {
   "cell_type": "markdown",
   "metadata": {},
   "source": [
    "### Question 6 "
   ]
  },
  {
   "cell_type": "code",
   "execution_count": 11,
   "metadata": {},
   "outputs": [
    {
     "data": {
      "image/png": "[encoded data removed]",
      "text/plain": [
       "<Figure size 432x288 with 1 Axes>"
      ]
     },
     "metadata": {
      "needs_background": "light"
     },
     "output_type": "display_data"
    }
   ],
   "source": [
    "reg_lin=[Beta0+Beta1*x for x in gnp]\n",
    "\n",
    "plt.plot(gnp,invest,linestyle=\"none\",marker='o',label='data')\n",
    "plt.plot(gnp,reg_lin,label='linear regression')\n",
    "\n",
    "CI_g=[Beta0+Beta1*x+q*sigma*c for x in gnp]\n",
    "CI_p=[Beta0+Beta1*x-q*sigma*c for x in gnp]\n",
    "\n",
    "PI_g=[Beta0+Beta1*x+q*sigma*c2 for x in gnp]\n",
    "PI_p=[Beta0+Beta1*x-q*sigma*c2 for x in gnp]\n",
    "\n",
    "plt.plot(gnp,CI_g,label='Confidence interval',color='green')\n",
    "plt.plot(gnp,CI_p,color='green')\n",
    "\n",
    "plt.plot(gnp,PI_g,color='yellow',label='Prediction interval')\n",
    "plt.plot(gnp,PI_p,color='yellow')\n",
    "\n",
    "plt.xlabel('gnp')\n",
    "plt.ylabel('invest')\n",
    "\n",
    "plt.legend()\n",
    "plt.show()"
   ]
  },
  {
   "cell_type": "markdown",
   "metadata": {},
   "source": [
    "### Question 7 "
   ]
  },
  {
   "cell_type": "code",
   "execution_count": 12,
   "metadata": {},
   "outputs": [
    {
     "name": "stdout",
     "output_type": "stream",
     "text": [
      "The slope is :  1.0152814015988711\n",
      "The intercept is :  -1.9635913352301833\n",
      "The coefficient of determination is : 0.9627572956057855\n",
      "The prediction for gnp = 1000 is :  155.97942793105494\n"
     ]
    }
   ],
   "source": [
    "X = np.array([[i] for i in gnp])\n",
    "linearReg = LinearRegression().fit(X,invest)\n",
    "\n",
    "print\"The slope is : \",linearReg.coef_[0]\n",
    "print\"The intercept is : \", linearReg.intercept_\n",
    "print\"The coefficient of determination is :\", linearReg.score(X,invest)\n",
    "print\"The prediction for gnp = 1000 is : \", np.exp(linearReg.predict([[np.log(1000)]]))[0]"
   ]
  },
  {
   "cell_type": "markdown",
   "metadata": {},
   "source": [
    "It perfectly coincides with what he have found \"by hand\""
   ]
  },
  {
   "cell_type": "markdown",
   "metadata": {},
   "source": [
    "### Question 8 "
   ]
  },
  {
   "cell_type": "code",
   "execution_count": 13,
   "metadata": {},
   "outputs": [
    {
     "data": {
      "image/png": "[encoded data removed]",
      "text/plain": [
       "<Figure size 432x288 with 1 Axes>"
      ]
     },
     "metadata": {
      "needs_background": "light"
     },
     "output_type": "display_data"
    }
   ],
   "source": [
    "Y = linearReg.predict([[i] for i in gnp])\n",
    "\n",
    "plt.plot(gnp, invest, 'o', label = \"Data\")\n",
    "plt.plot(gnp, Y, label = \"Predictions\")\n",
    "plt.xlabel(\"gnp\")\n",
    "plt.ylabel(\"invest\")\n",
    "plt.legend()\n",
    "plt.show()"
   ]
  },
  {
   "cell_type": "markdown",
   "metadata": {},
   "source": [
    "### Question 9 "
   ]
  },
  {
   "cell_type": "code",
   "execution_count": 16,
   "metadata": {},
   "outputs": [
    {
     "name": "stdout",
     "output_type": "stream",
     "text": [
      "The rank of the Gram matrix is  3 and it dimension is 3 so it has full rank\n"
     ]
    }
   ],
   "source": [
    "interest=data[\"interest\"]\n",
    "X = np.array([[1, gnp[i], data[\"interest\"][i]] for i in range(n)])\n",
    "Gram = np.dot(np.transpose(X),X)/n\n",
    "rank=np.linalg.matrix_rank(Gram)\n",
    "dimension=len(Gram)\n",
    "\n",
    "print\"The rank of the Gram matrix is \",rank,\"and it dimension is\",dimension,\"so it has full rank\"\n"
   ]
  },
  {
   "cell_type": "markdown",
   "metadata": {},
   "source": [
    "### Question 10"
   ]
  },
  {
   "cell_type": "code",
   "execution_count": 18,
   "metadata": {},
   "outputs": [
    {
     "name": "stdout",
     "output_type": "stream",
     "text": [
      "Intercept:\n",
      "\n",
      "\n",
      "Estimation of the value : -2.1804547259125684\n",
      "Standart deviation : 0.6623991977963763\n",
      "p_value : 0.006438367050914495\n",
      "\n",
      "\n",
      "coef of gnp:\n",
      "\n",
      "\n",
      "Estimation of the value : 1.0512426913198993\n",
      "Standart deviation : 0.1020613780619243\n",
      "p_value : 2.5995168484449493e-07\n",
      "\n",
      "\n",
      "coef of interest:\n",
      "\n",
      "\n",
      "Estimation of the value : -0.006528879406094035\n",
      "Standart deviation : 0.015344205065604329\n",
      "p_value : 0.6780071418826807\n",
      "\n",
      "\n",
      "Determination coef : 0.9999999999999833\n"
     ]
    }
   ],
   "source": [
    "XtX=n*Gram\n",
    "XtY=np.dot(np.transpose(X),invest)\n",
    "theta = np.dot(np.linalg.inv(XtX), XtY)\n",
    "prediction = np.dot(X,theta)\n",
    "\n",
    "sigma_carre=0\n",
    "for i in range(n):\n",
    "    sigma_carre+=(invest[i]-prediction[i])**2\n",
    "sigma_carre=sigma_carre/(n-3)\n",
    "sigma=sigma_carre**0.5\n",
    "\n",
    "var_theta= np.linalg.inv(XtX)*sigma_carre\n",
    "\n",
    "standart_var = np.sqrt(np.array([var_theta[0,0],var_theta[1,1], var_theta[2,2]]))\n",
    "\n",
    "R = np.sum((prediction - mean(invest)**2)/np.sum((invest - mean(invest)**2)))\n",
    "\n",
    "\n",
    "# The p-values \n",
    "\n",
    "values = theta/standart_var\n",
    "p_values = 2 * (1 - t.cdf(np.abs(values), n-3))\n",
    "\n",
    "\n",
    "print\"Intercept:\"\n",
    "print\"\\n\"\n",
    "print\"Estimation of the value :\",theta[0]\n",
    "print\"Standart deviation :\",standart_var[0]\n",
    "print\"p_value :\",p_values[0]\n",
    "\n",
    "print\"\\n\"\n",
    "\n",
    "\n",
    "print\"coef of gnp:\"\n",
    "print\"\\n\"\n",
    "print\"Estimation of the value :\",theta[1]\n",
    "print\"Standart deviation :\",standart_var[1]\n",
    "print\"p_value :\",p_values[1]\n",
    "\n",
    "print\"\\n\"\n",
    "\n",
    "print\"coef of interest:\"\n",
    "print\"\\n\"\n",
    "print\"Estimation of the value :\",theta[2]\n",
    "print\"Standart deviation :\",standart_var[2]\n",
    "print\"p_value :\",p_values[2]\n",
    "\n",
    "print\"\\n\"\n",
    "\n",
    "print\"Determination coef :\",R\n",
    "\n",
    "\n"
   ]
  },
  {
   "cell_type": "markdown",
   "metadata": {},
   "source": [
    "### Question 11"
   ]
  },
  {
   "cell_type": "code",
   "execution_count": 19,
   "metadata": {},
   "outputs": [
    {
     "name": "stdout",
     "output_type": "stream",
     "text": [
      "We predict that the log of investment is:  5.0159837304829145\n"
     ]
    }
   ],
   "source": [
    "X1 = np.array([1, np.log(1000), 10])\n",
    "log_invest_1000_10 = np.dot(X1,theta)\n",
    "\n",
    "print \"We predict that the log of investment is: \", log_invest_1000_10"
   ]
  },
  {
   "cell_type": "code",
   "execution_count": 20,
   "metadata": {},
   "outputs": [
    {
     "name": "stdout",
     "output_type": "stream",
     "text": [
      "The confidence interval for the 90% level is [4.64018403668831,5.391783424277519]\n",
      "The confidence interval for the 90% level is [4.607880465050264,5.424086995915565]\n"
     ]
    }
   ],
   "source": [
    "q= t.ppf(0.9995, n-3)\n",
    "\n",
    "c = np.dot(np.dot(X1,np.linalg.inv(XtX)),X1)\n",
    "C2 = np.sqrt(1+c)\n",
    "c=c**0.5\n",
    "\n",
    "\n",
    "CI_max=(log_invest_1000_10+q*sigma*c)\n",
    "\n",
    "CI_min=(log_invest_1000_10-q*sigma*c)\n",
    "\n",
    "print(\"The confidence interval for the 90% level is [\"+str(CI_min)+\",\"+str(CI_max)+\"]\")\n",
    "\n",
    "\n",
    "## Prediction interval \n",
    "\n",
    "PI_max=(log_invest_1000_10+q*sigma*c2)\n",
    "\n",
    "PI_min=(log_invest_1000_10-q*sigma*c2)\n",
    "\n",
    "print(\"The confidence interval for the 90% level is [\"+str(PI_min)+\",\"+str(PI_max)+\"]\")\n",
    "\n"
   ]
  },
  {
   "cell_type": "markdown",
   "metadata": {},
   "source": [
    "### Question 12"
   ]
  },
  {
   "cell_type": "code",
   "execution_count": 21,
   "metadata": {},
   "outputs": [],
   "source": [
    "Predictions = []\n",
    "CI_min = []\n",
    "CI_max = []\n",
    "PI_min = []\n",
    "PI_max= []\n",
    "\n",
    "interest=data[\"interest\"]\n",
    "X = np.array([[i] for i in gnp])\n",
    "Y=np.array([[i]for i in interest])\n",
    "X, Y = np.meshgrid(X,Y)\n",
    "\n",
    "for i in range(n):\n",
    "    Predictions.append([])\n",
    "    CI_min.append([])\n",
    "    CI_max.append([])\n",
    "    PI_min.append([])\n",
    "    PI_max.append([])\n",
    "    for j in range(n):\n",
    "        x = np.array([1, X[i,j], Y[i,j]])\n",
    "        c = np.dot(np.dot(x,np.linalg.inv(XtX)),x)\n",
    "        c2 = np.sqrt(1+c)\n",
    "        c=c**0.5\n",
    "        \n",
    "        prediction = np.dot(x,theta)\n",
    "        Predictions[i].append(prediction)\n",
    "        CI_min[i].append(prediction - q*sigma*c)\n",
    "        CI_max[i].append(prediction + q*sigma*c)\n",
    "        PI_min[i].append(prediction - q*sigma*c2)\n",
    "        PI_max[i].append(prediction + q*sigma*c2)"
   ]
  },
  {
   "cell_type": "markdown",
   "metadata": {},
   "source": [
    "### Question 13"
   ]
  },
  {
   "cell_type": "code",
   "execution_count": 22,
   "metadata": {},
   "outputs": [
    {
     "name": "stdout",
     "output_type": "stream",
     "text": [
      "The slope is :  [ 1.05124269 -0.00652888]\n",
      "The intercept is :  -2.180454725911403\n",
      "The coefficient of determination is : 0.9633108306726245\n",
      "The prediction for gnp = 1000 is :  150.8044147208708\n"
     ]
    }
   ],
   "source": [
    "X = np.array([[gnp[i], interest[i]] for i in range(n)])\n",
    "linearReg = LinearRegression().fit(X,invest)\n",
    "\n",
    "\n",
    "print\"The slope is : \",linearReg.coef_\n",
    "print\"The intercept is : \", linearReg.intercept_\n",
    "print\"The coefficient of determination is :\", linearReg.score(X,invest)\n",
    "print\"The prediction for gnp = 1000 is : \", np.exp(linearReg.predict([[np.log(1000), 10]]))[0]"
   ]
  },
  {
   "cell_type": "code",
   "execution_count": null,
   "metadata": {},
   "outputs": [],
   "source": []
  }
 ],
 "metadata": {
  "kernelspec": {
   "display_name": "Python 2",
   "language": "python",
   "name": "python2"
  },
  "language_info": {
   "codemirror_mode": {
    "name": "ipython",
    "version": 2
   },
   "file_extension": ".py",
   "mimetype": "text/x-python",
   "name": "python",
   "nbconvert_exporter": "python",
   "pygments_lexer": "ipython2",
   "version": "2.7.15+"
  }
 },
 "nbformat": 4,
 "nbformat_minor": 2
}
