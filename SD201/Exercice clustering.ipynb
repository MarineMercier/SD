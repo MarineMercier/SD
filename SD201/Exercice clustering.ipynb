{
 "cells": [
  {
   "cell_type": "markdown",
   "metadata": {},
   "source": [
    "# #Question 1"
   ]
  },
  {
   "cell_type": "code",
   "execution_count": 1,
   "metadata": {},
   "outputs": [],
   "source": [
    "import numpy as np\n",
    "from sklearn.cluster import KMeans\n",
    "import matplotlib.pyplot as plt"
   ]
  },
  {
   "cell_type": "code",
   "execution_count": 2,
   "metadata": {},
   "outputs": [],
   "source": [
    "def opendata(workfile):\n",
    "    L=[]\n",
    "    f=open(workfile, \"r\")\n",
    "    for line in f:\n",
    "        A= [x for x in line.split(\",\")]\n",
    "        L.append(A)\n",
    "    lenght=len(L[0])\n",
    "    for i in range(1, len(L)):\n",
    "        for j in range(1,lenght):\n",
    "            L[i][j]=float(L[i][j])\n",
    "    return L"
   ]
  },
  {
   "cell_type": "code",
   "execution_count": 3,
   "metadata": {},
   "outputs": [],
   "source": [
    "workfile=\"C:/Users/hilai/tp/data.csv\""
   ]
  },
  {
   "cell_type": "code",
   "execution_count": 4,
   "metadata": {},
   "outputs": [],
   "source": [
    "def adaptedList(L):\n",
    "    A=[] \n",
    "    for i in range(1,len(L)):\n",
    "        B=[j for j in L[i]]\n",
    "        del B[0]\n",
    "        A.append(B)\n",
    "    \n",
    "    return np.asarray(A)"
   ]
  },
  {
   "cell_type": "code",
   "execution_count": null,
   "metadata": {},
   "outputs": [],
   "source": []
  },
  {
   "cell_type": "code",
   "execution_count": 5,
   "metadata": {},
   "outputs": [],
   "source": [
    "def kmeans(L,k,ini='random',max_=1000,n_in=100):\n",
    "    kmeans=KMeans(init=ini,n_clusters=k,max_iter=max_,n_init=n_in).fit(L)\n",
    "    return kmeans.predict(L), kmeans.cluster_centers_"
   ]
  },
  {
   "cell_type": "code",
   "execution_count": 7,
   "metadata": {
    "scrolled": false
   },
   "outputs": [],
   "source": [
    "doc=opendata(workfile)\n",
    "#print(doc)\n",
    "#print(len(doc))\n",
    "L=adaptedList(doc)\n",
    "#print('newdoc',doc)\n",
    "#print(len(L))"
   ]
  },
  {
   "cell_type": "code",
   "execution_count": 8,
   "metadata": {},
   "outputs": [],
   "source": [
    "def SSE(L,k,ini='random',max_=1000,n_in=100):\n",
    "    predict, center=kmeans(L,k,ini,max_,n_in)\n",
    "    sum=0\n",
    "    for i in range(k):\n",
    "        for j in range(len(predict)):\n",
    "            if predict[j]==i:\n",
    "                for m in range(len(L[j])):\n",
    "                    sum+=(L[j][m]-center[i][m])**2\n",
    "    return sum\n",
    "                    \n",
    "    \n"
   ]
  },
  {
   "cell_type": "code",
   "execution_count": 9,
   "metadata": {},
   "outputs": [
    {
     "data": {
      "text/plain": [
       "1598.2473569863535"
      ]
     },
     "execution_count": 9,
     "metadata": {},
     "output_type": "execute_result"
    }
   ],
   "source": [
    "SSE(L,8)"
   ]
  },
  {
   "cell_type": "code",
   "execution_count": 10,
   "metadata": {},
   "outputs": [],
   "source": [
    "#On peut changer l'initialisation et passer en kmeans++, puis faire varier la valeur de max_iter et de n-init"
   ]
  },
  {
   "cell_type": "code",
   "execution_count": 11,
   "metadata": {},
   "outputs": [
    {
     "data": {
      "text/plain": [
       "1519.4039168404456"
      ]
     },
     "execution_count": 11,
     "metadata": {},
     "output_type": "execute_result"
    }
   ],
   "source": [
    "SSE(L,8,'k-means++')"
   ]
  },
  {
   "cell_type": "markdown",
   "metadata": {},
   "source": [
    "Comparer la qualité du cluster selon la valeur de n-init à max-iter fixé à 1000(qui varie de 1 à 10000 en passant par chaque décade): renvoie une liste avec la valeur du n_init et la valeur du SSE associé."
   ]
  },
  {
   "cell_type": "code",
   "execution_count": 12,
   "metadata": {},
   "outputs": [],
   "source": [
    "def takeVal(elem):\n",
    "    return elem[1]"
   ]
  },
  {
   "cell_type": "code",
   "execution_count": 13,
   "metadata": {},
   "outputs": [],
   "source": [
    "\n",
    "N_init=[]\n",
    "N=[]\n",
    "Val=[]\n",
    "for j in range(4):\n",
    "    for i in range(1,11):\n",
    "        n=i*(10**j)\n",
    "        val=SSE(L,8,n_in=n) \n",
    "        N.append(n)\n",
    "        Val.append(val)\n",
    "        N_init.append((n,val))\n",
    "result=sorted(N_init,key=takeVal)"
   ]
  },
  {
   "cell_type": "code",
   "execution_count": 14,
   "metadata": {},
   "outputs": [
    {
     "name": "stdout",
     "output_type": "stream",
     "text": [
      "[(700, 1517.6434440517446), (4000, 1525.9198811186575), (9000, 1529.2057545282817), (5000, 1529.6233995637067), (3000, 1535.1352579200584), (10000, 1535.6607679404306), (7000, 1536.4432418707647), (8000, 1536.761023607476), (6000, 1543.9355259580163), (2000, 1547.6778945843705), (400, 1554.8510371047328), (800, 1554.9638139157632), (100, 1556.8111022286503), (900, 1559.4767684111737), (1000, 1564.0400729403643), (200, 1566.124589545047), (1000, 1569.5836629650494), (90, 1579.8828280451735), (500, 1580.0377313726362), (60, 1592.0794399496601), (100, 1599.564968221501), (600, 1600.88555628323), (20, 1605.4777582762426), (300, 1608.1692100426537), (4, 1612.5440666983166), (40, 1626.3574282040504), (70, 1639.5704735239342), (80, 1653.2882364718546), (50, 1658.6491925849218), (30, 1677.1878213060206), (5, 1719.9908966891219), (1, 1726.658907761968), (8, 1731.9402780589742), (10, 1751.0619739791273), (10, 1754.9607728351575), (9, 1755.258506933752), (7, 1787.2286309254114), (3, 1788.5888100655945), (2, 1792.2046753835386), (6, 1811.5280062407767)]\n"
     ]
    },
    {
     "data": {
      "image/png": "[encoded data removed]",
      "text/plain": [
       "<Figure size 432x288 with 1 Axes>"
      ]
     },
     "metadata": {
      "needs_background": "light"
     },
     "output_type": "display_data"
    }
   ],
   "source": [
    "print(result)\n",
    "plt.plot(N,Val)\n",
    "plt.yscale('log')\n",
    "plt.show()"
   ]
  },
  {
   "cell_type": "markdown",
   "metadata": {},
   "source": [
    "Moralité: plus n_init est grand plus la SSE diminue ie le cluster est efficace, mais après 4000 pas d'amélioration notable ! "
   ]
  },
  {
   "cell_type": "markdown",
   "metadata": {},
   "source": [
    "\n",
    "Comparer la qualité du cluster selon la valeur de max-iter à n-init fixé(qui varie de 1 à 10000 en passant par chaque décade): renvoie une liste avec la valeur du n_init et la valeur du SSE associé."
   ]
  },
  {
   "cell_type": "code",
   "execution_count": 15,
   "metadata": {},
   "outputs": [],
   "source": [
    "Max_it=[]\n",
    "Num=[]\n",
    "Val2=[]\n",
    "for j in range(4):\n",
    "    for i in range(1,11):\n",
    "        n=i*(10**j)\n",
    "        val=SSE(L,8,max_=n) \n",
    "        Num.append(n)\n",
    "        Val2.append(val)\n",
    "        Max_it.append((n,val))\n",
    "result2=sorted(Max_it,key=takeVal)"
   ]
  },
  {
   "cell_type": "code",
   "execution_count": 16,
   "metadata": {},
   "outputs": [
    {
     "name": "stdout",
     "output_type": "stream",
     "text": [
      "[(8, 1533.0886358126954), (100, 1533.453126725704), (20, 1542.1020732144889), (7000, 1550.5597722423888), (700, 1558.5796973339147), (30, 1570.6821834888726), (10, 1573.9500430586772), (5000, 1586.9201009125695), (200, 1587.4243100158344), (1000, 1592.0850272710268), (3000, 1593.8809411415436), (1, 1596.0658578839489), (900, 1598.7764470924053), (500, 1599.24856314666), (4, 1601.7270793833643), (600, 1605.7869826741164), (9000, 1606.489165747511), (1000, 1607.8094230294014), (6000, 1613.258264436114), (3, 1615.000260942125), (10000, 1617.287741330093), (400, 1618.6075292997277), (40, 1620.1262810418223), (300, 1622.1196252735288), (50, 1622.4500732703063), (6, 1622.6395818917435), (7, 1623.6493930319912), (5, 1625.5288307800913), (60, 1625.932868230614), (4000, 1629.4536867946294), (80, 1632.3927911249173), (10, 1639.859673546775), (90, 1645.9368184059658), (2, 1649.9869837178262), (8000, 1651.2073160259088), (70, 1652.6376069146393), (800, 1665.1425182414607), (9, 1671.6436768515243), (2000, 1673.7992200379874), (100, 1708.1154101428347)]\n"
     ]
    },
    {
     "data": {
      "image/png": "[encoded data removed]",
      "text/plain": [
       "<Figure size 432x288 with 1 Axes>"
      ]
     },
     "metadata": {
      "needs_background": "light"
     },
     "output_type": "display_data"
    }
   ],
   "source": [
    "plt.close()\n",
    "print(result2)\n",
    "plt.plot(Num,Val2)\n",
    "plt.yscale('log')\n",
    "plt.show()"
   ]
  },
  {
   "cell_type": "markdown",
   "metadata": {},
   "source": [
    "Moralité: max_iter a une influence relativement faible sur la qualité du clustering après un certain palier même si une tendance montre que l'augmentation de max_iter petmet de meilleur résultat. 6000 semble être une valeur adapté ! "
   ]
  },
  {
   "cell_type": "markdown",
   "metadata": {},
   "source": [
    "L'algorithme est lent à s'exécuter car beaucoup de valeur comparée. Prenons n_init=4000 et max_iter=6000"
   ]
  },
  {
   "cell_type": "code",
   "execution_count": 17,
   "metadata": {},
   "outputs": [],
   "source": [
    "def clustering(doc,k=8,n_init=4000,max_iter=6000,ini='random'):\n",
    "    #print('doc',doc)\n",
    "    #print('lendoc',len(doc))\n",
    "    cluster=[]\n",
    "    L=adaptedList(doc)\n",
    "    #print('lenL',len(L))\n",
    "    #print('L',L)\n",
    "    #print('doc',doc)\n",
    "    predict,cluster_center=kmeans(L,k,ini,max_iter,n_init)\n",
    "    #print('lenpredict',len(predict))\n",
    "    for i in range(k):\n",
    "        A=[]\n",
    "        for j in range(len(predict)):\n",
    "            if predict[j]==i:\n",
    "                #print(doc[j+1][0])\n",
    "                A.append(doc[j+1][0])\n",
    "        cluster.append(A)\n",
    "    return cluster"
   ]
  },
  {
   "cell_type": "code",
   "execution_count": 19,
   "metadata": {},
   "outputs": [
    {
     "data": {
      "text/plain": [
       "[['Kraft',\n",
       "  'Procter & Gamble',\n",
       "  'AT&T',\n",
       "  'Merck',\n",
       "  'McDonalds',\n",
       "  'Coca-Cola',\n",
       "  'Johnson & Johnson'],\n",
       " ['Verizon',\n",
       "  'IBM',\n",
       "  'The Home Depot',\n",
       "  'Intel',\n",
       "  'Wal-Mart',\n",
       "  'General Electric',\n",
       "  'United Technologies',\n",
       "  'Travelers',\n",
       "  '3M'],\n",
       " ['Chevron', 'Pfizer', 'ExxonMobil'],\n",
       " ['Cisco Systems'],\n",
       " ['American Express', 'Boeing', 'Microsoft', 'Walt Disney', 'JPMorgan Chase'],\n",
       " ['Bank of America'],\n",
       " ['Hewlett-Packard'],\n",
       " ['DuPont', 'Caterpillar', 'Alcoa']]"
      ]
     },
     "execution_count": 19,
     "metadata": {},
     "output_type": "execute_result"
    }
   ],
   "source": [
    "workfile=\"C:/Users/hilai/tp/data.csv\"\n",
    "doc=opendata(workfile)\n",
    "cluster=clustering(doc)\n",
    "#print(doc)\n",
    "cluster"
   ]
  },
  {
   "cell_type": "code",
   "execution_count": null,
   "metadata": {},
   "outputs": [],
   "source": []
  }
 ],
 "metadata": {
  "kernelspec": {
   "display_name": "Python 3",
   "language": "python",
   "name": "python3"
  },
  "language_info": {
   "codemirror_mode": {
    "name": "ipython",
    "version": 3
   },
   "file_extension": ".py",
   "mimetype": "text/x-python",
   "name": "python",
   "nbconvert_exporter": "python",
   "pygments_lexer": "ipython3",
   "version": "3.6.7"
  }
 },
 "nbformat": 4,
 "nbformat_minor": 2
}
