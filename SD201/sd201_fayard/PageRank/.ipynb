{
 "cells": [
  {
   "cell_type": "markdown",
   "metadata": {},
   "source": [
    "#  <p><center><span style=\"color:red\"> TP 1 : Page Rank Algorithm </span></center></p>"
   ]
  },
  {
   "cell_type": "markdown",
   "metadata": {},
   "source": [
    ">##       <u>     1) Practising with Python </u> \n",
    "\n"
   ]
  },
  {
   "cell_type": "markdown",
   "metadata": {},
   "source": [
    "### Construction of L and M "
   ]
  },
  {
   "cell_type": "markdown",
   "metadata": {},
   "source": [
    "Construction of a list and of it squares "
   ]
  },
  {
   "cell_type": "code",
   "execution_count": 1,
   "metadata": {},
   "outputs": [
    {
     "name": "stdout",
     "output_type": "stream",
     "text": [
      "[1 2 3] [1 4 9]\n"
     ]
    }
   ],
   "source": [
    "import numpy as np \n",
    "\n",
    "L=np.array([1,2,3])\n",
    "M=L**2\n",
    "\n",
    "print(L,M)"
   ]
  },
  {
   "cell_type": "markdown",
   "metadata": {},
   "source": [
    "### List of even integers "
   ]
  },
  {
   "cell_type": "markdown",
   "metadata": {},
   "source": [
    "Function that returns the even integers of a list "
   ]
  },
  {
   "cell_type": "code",
   "execution_count": 2,
   "metadata": {},
   "outputs": [
    {
     "data": {
      "text/plain": [
       "[4]"
      ]
     },
     "execution_count": 2,
     "metadata": {},
     "output_type": "execute_result"
    }
   ],
   "source": [
    "def even(list):\n",
    "    even=[]\n",
    "    for i in list:\n",
    "        if i%2==0:\n",
    "            even.append(i)\n",
    "    return even\n",
    "\n",
    "even(M)"
   ]
  },
  {
   "cell_type": "markdown",
   "metadata": {},
   "source": [
    "### List of integers in a file "
   ]
  },
  {
   "cell_type": "markdown",
   "metadata": {},
   "source": [
    "Function that reads the integers in a file "
   ]
  },
  {
   "cell_type": "code",
   "execution_count": 3,
   "metadata": {},
   "outputs": [
    {
     "data": {
      "text/plain": [
       "[1, 2, 2, 3, 3, 4, 4, 1, 1, 5, 5, 6, 6, 1]"
      ]
     },
     "execution_count": 3,
     "metadata": {},
     "output_type": "execute_result"
    }
   ],
   "source": [
    "def list_of_file(file):\n",
    "    f=open(file,\"r\")\n",
    "    list=[]\n",
    "    for line in f:\n",
    "        u,v= [ int(x) for x in line.split() ]\n",
    "        list.append(u)\n",
    "        list.append(v)\n",
    "    return list \n",
    "\n",
    "list_of_file('./graphe')"
   ]
  },
  {
   "cell_type": "markdown",
   "metadata": {},
   "source": [
    " "
   ]
  },
  {
   "cell_type": "markdown",
   "metadata": {},
   "source": [
    "## <u> 2) Implementing PageRank in Python </u>"
   ]
  },
  {
   "cell_type": "markdown",
   "metadata": {},
   "source": [
    "### 1) a) Beta=1 ; eps = 0.1"
   ]
  },
  {
   "cell_type": "markdown",
   "metadata": {},
   "source": [
    "First, I define two functions that will be useful to create the function PageRank"
   ]
  },
  {
   "cell_type": "code",
   "execution_count": 4,
   "metadata": {},
   "outputs": [],
   "source": [
    "def distance(r1,r2): #Return the norm1 of the vector r1-r2 (to see the difference between r1 and r2)\n",
    "    res=0\n",
    "    n=len(r1)\n",
    "    for i in range(n):\n",
    "        res+=abs(r1[i]-r2[i])\n",
    "    return res\n",
    "\n",
    "def product(d,v): #Return the product of a sparse matrice represented by a dictionnary d and a vector v \n",
    "    n=len(v)\n",
    "    res=np.zeros(n)\n",
    "    for i in range(n):\n",
    "        l=d[i+1]\n",
    "        for x in l:\n",
    "            res[x-1]+=(1./len(l))*v[i]\n",
    "    return res"
   ]
  },
  {
   "cell_type": "markdown",
   "metadata": {},
   "source": [
    "Here is the implementation of the function PageRank.<br />\n",
    "It enables to apply the PageRank algorithm to a graph writtend in a file. <br />\n",
    "We can adjust the Beta and the epsilon parameters. "
   ]
  },
  {
   "cell_type": "code",
   "execution_count": 5,
   "metadata": {},
   "outputs": [],
   "source": [
    "def PageRank(file,beta,eps):\n",
    "    f = open(file,'r')\n",
    "    d={}\n",
    "    maxi=0\n",
    "    for line in f:                                   # creation of the sparse matrix, extracted from the file \n",
    "        u,v= [int(x) for x in line.split()]          # and research of the maximum of the graph's indexes maxi \n",
    "        if u in d:\n",
    "            d[u].append(v)\n",
    "        else:\n",
    "            d[u]=[v]\n",
    "        if u>maxi:\n",
    "            maxi=u\n",
    "        if v>maxi:\n",
    "            maxi=v\n",
    "    r=[]\n",
    "    for i in range(maxi):\n",
    "        r.append(1.0)\n",
    "    r=np.array(r)                                    # creation of the initial vector result r \n",
    "    r=r/maxi\n",
    "    p=(1-beta)*r\n",
    "    while distance(r,beta*product(d,r)+p)>eps: \n",
    "        r=beta*product(d,r)+p                     #iteration until the distance between the old and the new r is superior to eps\n",
    "    y={}\n",
    "    n=len(r)\n",
    "    for i in range(1,n+1):\n",
    "        y[\"node \"+str(i)]=r[i-1]\n",
    "    return \"There you can see the importance of each node between 0 and 1 : \", y"
   ]
  },
  {
   "cell_type": "code",
   "execution_count": 6,
   "metadata": {},
   "outputs": [
    {
     "data": {
      "text/plain": [
       "('There you can see the importance of each node between 0 and 1 : ',\n",
       " {'node 1': 0.28576151529947913,\n",
       "  'node 2': 0.14273834228515625,\n",
       "  'node 3': 0.14288075764973956,\n",
       "  'node 4': 0.14300028483072916,\n",
       "  'node 5': 0.14273834228515625,\n",
       "  'node 6': 0.14288075764973956})"
      ]
     },
     "execution_count": 6,
     "metadata": {},
     "output_type": "execute_result"
    }
   ],
   "source": [
    "PageRank('./graphe',1,0.001)"
   ]
  },
  {
   "cell_type": "markdown",
   "metadata": {},
   "source": [
    "The node 1 is the most important in so far as two nodes target the node 1. \n",
    "The others are less important. "
   ]
  },
  {
   "cell_type": "markdown",
   "metadata": {},
   "source": [
    "### 1 )b) Beta=0.8 ; esp=0.1"
   ]
  },
  {
   "cell_type": "markdown",
   "metadata": {},
   "source": [
    "We change the parameter Beta, which represents the jump possibility and we obtain : "
   ]
  },
  {
   "cell_type": "code",
   "execution_count": 7,
   "metadata": {},
   "outputs": [
    {
     "data": {
      "text/plain": [
       "('There you can see the importance of each node between 0 and 1 : ',\n",
       " {'node 1': 0.27144166191245994,\n",
       "  'node 2': 0.14205073558667264,\n",
       "  'node 3': 0.14688009681043457,\n",
       "  'node 4': 0.15069667329332564,\n",
       "  'node 5': 0.14205073558667264,\n",
       "  'node 6': 0.14688009681043457})"
      ]
     },
     "execution_count": 7,
     "metadata": {},
     "output_type": "execute_result"
    }
   ],
   "source": [
    "PageRank('./graphe',0.8,0.001)"
   ]
  },
  {
   "cell_type": "markdown",
   "metadata": {},
   "source": [
    "## 2) Web Graph : applying PageRank to Wikipedia pages "
   ]
  },
  {
   "cell_type": "markdown",
   "metadata": {},
   "source": [
    "  "
   ]
  },
  {
   "cell_type": "markdown",
   "metadata": {},
   "source": [
    "Now, we have to create the graph ourself,by exploring the html code of each Wikipedia page, and by seeing if they contains links to other pages. "
   ]
  },
  {
   "cell_type": "code",
   "execution_count": 9,
   "metadata": {},
   "outputs": [],
   "source": [
    "import re\n",
    "from os import listdir\n",
    "from os.path import isfile, join\n",
    "import html\n",
    "\n",
    "files = [f for f in listdir(\"./toyset/\") if isfile(join(\"./toyset/\", f))]\n",
    "n=len(files)\n",
    "dico={}\n",
    "for i in range(n):\n",
    "    dico[i+1]=files[i]           #dico will enable to refind the name of the page with its index\n",
    "    \n",
    "filesSet=set(files)\n",
    "graph_wiki=[]\n",
    "\n",
    "for i in range(len(files)):\n",
    "    f=open(\"./toyset/\"+files[i],encoding=\"utf8\")\n",
    "    list_links=re.findall(r'href=[\\'\"]?([^\\'\" >]+)',f.read())    #we get the list of links in the file i \n",
    "    list_links=list(set(list_links) & filesSet)                    #we keep only those who interest us  \n",
    "    for j in list_links:                                         #we append them to the grap \"graph_wiki\"\n",
    "        v=files.index(j)\n",
    "        graph_wiki.append((i+1,v+1))\n"
   ]
  },
  {
   "cell_type": "markdown",
   "metadata": {},
   "source": [
    "Now, we have our graph, named \"graph_wiki\". We adapt a little our function PageRank to presents the results differently. "
   ]
  },
  {
   "cell_type": "code",
   "execution_count": 10,
   "metadata": {},
   "outputs": [
    {
     "data": {
      "text/plain": [
       "('There you can see the importance of each page between 0 and 100 : ',\n",
       " {'Assembly_language.html': 3.9247213058175143,\n",
       "  'Binary_file.html': 0.4527633803277401,\n",
       "  'Boolean_data_type.html': 0.931262282786769,\n",
       "  'Bytecode.html': 1.392558988966497,\n",
       "  'C++.html': 3.04362286995754,\n",
       "  'COBOL.html': 2.343469619163733,\n",
       "  'C_(programming_language).html': 4.065222495276738,\n",
       "  'Comparison_of_programming_languages.html': 1.5043802272147742,\n",
       "  'Compiler.html': 3.3443171620915737,\n",
       "  'Computer.html': 2.20896294761528,\n",
       "  'Computer_hardware.html': 2.2940202786461015,\n",
       "  'Computer_memory.html': 1.562278964747902,\n",
       "  'Computer_program.html': 2.0267176138101384,\n",
       "  'Computer_science.html': 2.5251926819097723,\n",
       "  'Control_flow.html': 0.9750315627785691,\n",
       "  'Data_(computing).html': 0.7541860560966966,\n",
       "  'Data_type.html': 1.922532815298363,\n",
       "  'Database.html': 1.1228673044288302,\n",
       "  'Dynamic_programming_language.html': 1.2146789950983778,\n",
       "  'Executable.html': 1.2632100163216937,\n",
       "  'Fortran.html': 2.417875832683193,\n",
       "  'GNU_Compiler_Collection.html': 1.562877388288963,\n",
       "  'High-level_programming_language.html': 2.259627860770266,\n",
       "  'Imperative_programming.html': 2.3105607719844152,\n",
       "  'Instruction_set.html': 1.7393205084948433,\n",
       "  'Integer_(computer_science).html': 0.9185803223652302,\n",
       "  'JavaScript.html': 2.4491717448430443,\n",
       "  'Java_(programming_language).html': 3.35578160588575,\n",
       "  'Kernel_(computing).html': 0.458215434186174,\n",
       "  'Lexical_scope.html': 0.15637770689126324,\n",
       "  'Linux.html': 1.2203973358538192,\n",
       "  'Lisp_(programming_language).html': 2.820834779985951,\n",
       "  'List_of_programming_languages.html': 1.5001494219676144,\n",
       "  'Logic_programming.html': 1.274042866058705,\n",
       "  'Low-level_programming_language.html': 1.5637332330421183,\n",
       "  'Memory_address.html': 0.7767807524450869,\n",
       "  'Method_(computer_programming).html': 0.6290642593192322,\n",
       "  'Object-oriented_programming.html': 2.90991846835297,\n",
       "  'Object_(computer_science).html': 1.6062574604458213,\n",
       "  'Operating_system.html': 3.7572160895860858,\n",
       "  'Pointer_(computer_programming).html': 1.4857999162513766,\n",
       "  'Porting.html': 0.8953982220642149,\n",
       "  'Program_(machine).html': 0.37725837261121137,\n",
       "  'Programming_language.html': 4.823443714146223,\n",
       "  'Python_(programming_language).html': 2.6741833724812527,\n",
       "  'Scripting_language.html': 1.7354439700221842,\n",
       "  'Snowball_programming_language.html': 0.08144992148488653,\n",
       "  'Software.html': 1.3603491999745632,\n",
       "  'Software_portability.html': 1.2785472843536234,\n",
       "  'Source_code.html': 2.1408665445354305,\n",
       "  'Strong_and_weak_typing.html': 0.4660149816214593,\n",
       "  'Subroutine.html': 1.7025965064843145,\n",
       "  'Type_system.html': 2.036171805521405,\n",
       "  'Unix.html': 1.9371535401587747,\n",
       "  'Virtual_machine.html': 2.44654123648392})"
      ]
     },
     "execution_count": 10,
     "metadata": {},
     "output_type": "execute_result"
    }
   ],
   "source": [
    "def PageRank_graph(graph,beta,eps):\n",
    "    d={}\n",
    "    maxi=0\n",
    "    for couple in graph:                                   # creation of the sparse matrix \n",
    "        u,v= couple[0],couple[1]\n",
    "        if u in d:\n",
    "            d[u].append(v)\n",
    "        else:\n",
    "            d[u]=[v]\n",
    "        if u>maxi:\n",
    "            maxi=u\n",
    "        if v>maxi:\n",
    "            maxi=v\n",
    "    r=[]\n",
    "    for i in range(maxi):\n",
    "        r.append(1.0)\n",
    "    r=np.array(r)\n",
    "    r=r/maxi\n",
    "    p=(1-beta)*r\n",
    "    while distance(r,beta*product(d,r)+p)>eps: \n",
    "        r=beta*product(d,r)+p #iteration until the distance between the old and the new r is superior to eps\n",
    "    n=len(r)\n",
    "    y={}\n",
    "    for i in range(1,n+1):\n",
    "        y[dico[i]]=100*r[i-1]\n",
    "    return \"There you can see the importance of each page between 0 and 100 : \", y\n",
    "\n",
    "PageRank_graph(graph_wiki,1,0.1)\n"
   ]
  },
  {
   "cell_type": "code",
   "execution_count": null,
   "metadata": {},
   "outputs": [],
   "source": []
  }
 ],
 "metadata": {
  "kernelspec": {
   "display_name": "Python 3",
   "language": "python",
   "name": "python3"
  },
  "language_info": {
   "codemirror_mode": {
    "name": "ipython",
    "version": 3
   },
   "file_extension": ".py",
   "mimetype": "text/x-python",
   "name": "python",
   "nbconvert_exporter": "python",
   "pygments_lexer": "ipython3",
   "version": "3.6.8"
  }
 },
 "nbformat": 4,
 "nbformat_minor": 2
}
