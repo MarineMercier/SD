{
 "cells": [
  {
   "cell_type": "markdown",
   "metadata": {},
   "source": [
    "#  <p><center><span style=\"color:red\"> TP 1 : Page Rank Algorithm </span></center></p>"
   ]
  },
  {
   "cell_type": "markdown",
   "metadata": {},
   "source": [
    ">##       <u>     1) Practising with Python </u> \n",
    "\n"
   ]
  },
  {
   "cell_type": "markdown",
   "metadata": {},
   "source": [
    "### Construction of L and M "
   ]
  },
  {
   "cell_type": "markdown",
   "metadata": {},
   "source": [
    "Construction of a list and of it squares "
   ]
  },
  {
   "cell_type": "code",
   "execution_count": 2,
   "metadata": {},
   "outputs": [
    {
     "name": "stdout",
     "output_type": "stream",
     "text": [
      "[1 2 3] [1 4 9]\n"
     ]
    }
   ],
   "source": [
    "import numpy as np \n",
    "\n",
    "L=np.array([1,2,3])\n",
    "M=L**2\n",
    "\n",
    "print(L,M)"
   ]
  },
  {
   "cell_type": "markdown",
   "metadata": {},
   "source": [
    "### List of even integers "
   ]
  },
  {
   "cell_type": "markdown",
   "metadata": {},
   "source": [
    "Function that returns the even integers of a list "
   ]
  },
  {
   "cell_type": "code",
   "execution_count": 3,
   "metadata": {},
   "outputs": [
    {
     "data": {
      "text/plain": [
       "[4]"
      ]
     },
     "execution_count": 3,
     "metadata": {},
     "output_type": "execute_result"
    }
   ],
   "source": [
    "def even(list):\n",
    "    even=[]\n",
    "    for i in list:\n",
    "        if i%2==0:\n",
    "            even.append(i)\n",
    "    return even\n",
    "\n",
    "even(M)"
   ]
  },
  {
   "cell_type": "markdown",
   "metadata": {},
   "source": [
    "### List of integers in a file "
   ]
  },
  {
   "cell_type": "markdown",
   "metadata": {},
   "source": [
    "Function that reads the integers in a file "
   ]
  },
  {
   "cell_type": "code",
   "execution_count": 4,
   "metadata": {},
   "outputs": [
    {
     "data": {
      "text/plain": [
       "[1, 2, 2, 3, 3, 4, 4, 1, 1, 5, 5, 6, 6, 1]"
      ]
     },
     "execution_count": 4,
     "metadata": {},
     "output_type": "execute_result"
    }
   ],
   "source": [
    "def list_of_file(file):\n",
    "    f=open(file,\"r\")\n",
    "    list=[]\n",
    "    for line in f:\n",
    "        u,v= [ int(x) for x in line.split() ]\n",
    "        list.append(u)\n",
    "        list.append(v)\n",
    "    return list \n",
    "\n",
    "list_of_file('graphe')"
   ]
  },
  {
   "cell_type": "markdown",
   "metadata": {},
   "source": [
    " "
   ]
  },
  {
   "cell_type": "markdown",
   "metadata": {},
   "source": [
    "## <u> 2) Implementing PageRank in Python </u>"
   ]
  },
  {
   "cell_type": "markdown",
   "metadata": {},
   "source": [
    "### 1) a) Beta=1 ; eps = 0.1"
   ]
  },
  {
   "cell_type": "markdown",
   "metadata": {},
   "source": [
    "First, I define two functions that will be useful to create the function PageRank"
   ]
  },
  {
   "cell_type": "code",
   "execution_count": 5,
   "metadata": {},
   "outputs": [],
   "source": [
    "def distance(r1,r2): #Return the norm1 of the vector r1-r2 (to see the difference between r1 and r2)\n",
    "    res=0\n",
    "    n=len(r1)\n",
    "    for i in range(n):\n",
    "        res+=abs(r1[i]-r2[i])\n",
    "    return res\n",
    "\n",
    "def product(d,v): #Return the product of a sparse matrice represented by a dictionnary d and a vector v \n",
    "    n=len(v)\n",
    "    res=np.zeros(n)\n",
    "    for i in range(n):\n",
    "        l=d[i+1]\n",
    "        for x in l:\n",
    "            res[x-1]+=(1./len(l))*v[i]\n",
    "    return res"
   ]
  },
  {
   "cell_type": "markdown",
   "metadata": {},
   "source": [
    "Here is the implementation of the function PageRank.<br />\n",
    "It enables to apply the PageRank algorithm to a graph writtend in a file. <br />\n",
    "We can adjust the Beta and the epsilon parameters. "
   ]
  },
  {
   "cell_type": "code",
   "execution_count": 20,
   "metadata": {},
   "outputs": [],
   "source": [
    "def PageRank(file,beta,eps):\n",
    "    f = open(file,'r')\n",
    "    d={}\n",
    "    maxi=0\n",
    "    for line in f: \n",
    "        print(line)  # creation of the sparse matrix, extracted from the file \n",
    "        u,v= [int(x) for x in line.split()]\n",
    "        print(u,v)            # and research of the maximum of the graph's indexes maxi \n",
    "        if u in d:\n",
    "            d[u].append(v)\n",
    "        else:\n",
    "            d[u]=[v]\n",
    "        if u>maxi:\n",
    "            maxi=u\n",
    "        if v>maxi:\n",
    "            maxi=v\n",
    "    r=[]\n",
    "    for i in range(maxi):\n",
    "        r.append(1.0)\n",
    "    r=np.array(r)                                    # creation of the initial vector result r \n",
    "    r=r/maxi\n",
    "    p=(1-beta)*r\n",
    "    while distance(r,beta*product(d,r)+p)>eps: \n",
    "        r=beta*product(d,r)+p                     #iteration until the distance between the old and the new r is superior to eps\n",
    "    y={}\n",
    "    n=len(r)\n",
    "    for i in range(1,n+1):\n",
    "        y[\"node \"+str(i)]=r[i-1]\n",
    "    return \"There you can see the importance of each node between 0 and 1 : \", y"
   ]
  },
  {
   "cell_type": "code",
   "execution_count": 21,
   "metadata": {
    "scrolled": true
   },
   "outputs": [
    {
     "name": "stdout",
     "output_type": "stream",
     "text": [
      "1 101 301 421 111 351 261 431 41 371 211 91 11 311 412 222 422 202 432 542 372 152 92 512 32 412 142 23 173 453 303 113 353 253 123 163 93 13 33 413 144 64 524 394 424 274 404 24 224 454 114 84 234 44 94 314 504 344 484 444 244 124 434 374 174 354 14 55 525 285 125 435 335 555 515 55 35 276 66 176 396 446 386 456 246 356 86 206 266 46 336 256 376 366 156 96 326 147 527 427 547 337 147 27 277 407 77 457 237 267 47 97 417 497 347 487 447 127 297 557 377 177 467 357 368 68 398 428 338 158 278 388 458 88 238 138 258 48 98 248 438 298 378 178 368 218 329 69 309 429 339 279 229 459 389 89 239 49 99 509 499 349 489 449 129 439 379 179 359 369 219 329 19 310 1010 4810 4410 1110 3510 1210 410 3710 2110 110 310 3110 1411 1011 1111 4211 3511 5411 5511 2111 111 3112 5212 2812 4212 2612 1212 2912 3712 912 512 312 4912 3112 4013 4413 2413 4513 1313 4313 413 3613 913 514 1014 5214 714 4614 3514 4214 2614 1614 3614 3714 3214 3115 615 5215 3915 2415 815 2615 2515 1215 3315 1615 5515 3715 1515 3215 216 1716 5216 4616 3516 4216 2616 1216 416 3316 2916 5516 1616 4116 4017 617 4217 2017 5417 2717 2217 4517 2317 2617 417 917 5017 4117 3417 4817 4417 2417 4317 3717 1717 3617 118 1718 4818 4518 4618 818 1318 2618 418 4318 3618 3718 2118 918 3219 719 2619 1920 620 1720 2220 4820 4420 2420 4520 3520 4220 2020 4320 5420 420 5020 2920 920 5120 120 4120 221 2221 4821 4521 3021 1121 3521 2321 1221 421 3721 2121 921 121 4921 1421 4022 1722 2222 722 4422 4522 4222 2722 2022 2322 5422 2622 422 1222 4322 922 5122 2922 3622 4122 223 623 3923 4223 2723 2223 3823 4523 823 2323 423 923 5023 4123 3423 4823 4423 4323 3723 1723 3523 3623 3224 624 3924 2424 4524 824 1324 2524 1224 4324 2924 3724 1624 1524 3624 3224 525 625 3925 4425 4525 2425 825 2525 425 3725 1525 925 3225 125 3125 4926 5226 2226 726 4826 4626 3526 4226 5326 2626 1226 5426 1626 5526 3726 926 3226 126 1426 2727 627 3927 4227 2727 2227 4527 827 2327 1327 427 927 5027 4927 3427 4827 4427 1227 4327 3727 1727 4627 328 628 1028 3528 2628 1228 1628 4928 1428 4029 5229 729 1229 4329 1629 2929 3729 529 3130 4530 3030 4230 2630 1230 430 3730 2130 930 330 3130 4130 1430 4031 1031 5231 1131 3531 1231 2931 3731 2131 131 3131 1431 4032 632 3932 2432 3532 832 2532 1332 432 3332 2932 3732 1532 932 3232 1432 233 3333 5233 733 1234 3434 1734 4834 4434 4534 4234 2334 4734 434 3734 934 5034 2735 635 5235 4235 2735 4535 1135 2335 435 935 3135 4135 4935 1035 4835 4435 1235 4335 2935 3735 3535 2135 136 2236 4836 2436 4536 3536 4236 2336 1336 4336 3636 3736 936 5136 3236 4137 637 4237 2037 1937 5437 1437 237 2737 2237 737 4537 2337 2637 437 937 5137 3137 5037 4137 4937 1037 3437 4837 4437 4337 2937 3737 1737 4637 3537 3637 3237 138 638 4838 4438 3838 3538 4238 838 438 3738 2138 938 3238 5039 639 1739 4839 3939 4439 4539 2439 4639 839 2339 2539 5439 439 2939 3739 1539 939 3240 2840 4840 4440 4540 3040 4240 3540 2340 2040 1240 440 1640 2940 3740 3640 940 2140 140 4940 4041 4241 2041 5441 2741 241 2241 741 2341 441 941 5141 3141 4141 4841 4441 2441 4341 2941 3741 1741 1841 3542 3042 4242 5342 2042 5442 1442 2742 242 2242 742 4542 2342 442 942 5142 3142 5042 4142 4942 3442 4842 4442 2442 1242 4342 2942 3742 1742 3542 3642 142 343 4243 2043 5443 2743 243 2243 4543 843 2343 2543 443 943 5143 4143 4943 4843 4443 2443 4343 1643 2943 1743 4643 3643 3244 644 4244 5444 2744 2244 4544 844 2344 2544 444 944 5144 3144 5044 4144 4944 1044 3444 4844 4444 2444 1244 4344 3744 1744 3245 645 3445 2245 1745 4845 4445 4545 245 4245 3545 2345 1245 4345 445 3745 2145 945 4945 5045 2746 1746 2246 1846 4846 4446 4546 4646 4246 2346 2646 446 2946 3646 3746 946 146 2747 3747 947 3247 448 648 4248 5448 2748 748 4548 848 2348 448 948 5048 4148 1048 3448 4848 4448 2948 3748 1748 3548 3248 149 3049 4249 3549 1249 3749 2149 949 4949 349 4149 4050 3450 2250 1750 750 4850 4450 4550 4250 2350 4350 450 3750 950 3150 5050 2751 2251 4851 4251 2051 4351 5451 3751 5151 4151 252 5252 752 1252 3352 1652 2952 3752 3152 1453 4553 1153 5353 2653 954 1054 1754 2254 4854 4454 3554 4254 2054 1254 5454 454 4354 3754 5154 554 4954 4154 255 755 2455 1155 4255 3555 5355 2655 1255 3355 5555 3755 1555 3255 555 14\n"
     ]
    },
    {
     "ename": "ValueError",
     "evalue": "too many values to unpack (expected 2)",
     "output_type": "error",
     "traceback": [
      "\u001b[0;31m---------------------------------------------------------------------------\u001b[0m",
      "\u001b[0;31mValueError\u001b[0m                                Traceback (most recent call last)",
      "\u001b[0;32m<ipython-input-21-c786c690f3ac>\u001b[0m in \u001b[0;36m<module>\u001b[0;34m()\u001b[0m\n\u001b[0;32m----> 1\u001b[0;31m \u001b[0mPageRank\u001b[0m\u001b[0;34m(\u001b[0m\u001b[0;34m'graph'\u001b[0m\u001b[0;34m,\u001b[0m\u001b[0;36m1\u001b[0m\u001b[0;34m,\u001b[0m\u001b[0;36m0.001\u001b[0m\u001b[0;34m)\u001b[0m\u001b[0;34m\u001b[0m\u001b[0;34m\u001b[0m\u001b[0m\n\u001b[0m",
      "\u001b[0;32m<ipython-input-20-a080fa578a01>\u001b[0m in \u001b[0;36mPageRank\u001b[0;34m(file, beta, eps)\u001b[0m\n\u001b[1;32m      5\u001b[0m     \u001b[0;32mfor\u001b[0m \u001b[0mline\u001b[0m \u001b[0;32min\u001b[0m \u001b[0mf\u001b[0m\u001b[0;34m:\u001b[0m\u001b[0;34m\u001b[0m\u001b[0;34m\u001b[0m\u001b[0m\n\u001b[1;32m      6\u001b[0m         \u001b[0mprint\u001b[0m\u001b[0;34m(\u001b[0m\u001b[0mline\u001b[0m\u001b[0;34m)\u001b[0m  \u001b[0;31m# creation of the sparse matrix, extracted from the file\u001b[0m\u001b[0;34m\u001b[0m\u001b[0;34m\u001b[0m\u001b[0m\n\u001b[0;32m----> 7\u001b[0;31m         \u001b[0mu\u001b[0m\u001b[0;34m,\u001b[0m\u001b[0mv\u001b[0m\u001b[0;34m=\u001b[0m \u001b[0;34m[\u001b[0m\u001b[0mint\u001b[0m\u001b[0;34m(\u001b[0m\u001b[0mx\u001b[0m\u001b[0;34m)\u001b[0m \u001b[0;32mfor\u001b[0m \u001b[0mx\u001b[0m \u001b[0;32min\u001b[0m \u001b[0mline\u001b[0m\u001b[0;34m.\u001b[0m\u001b[0msplit\u001b[0m\u001b[0;34m(\u001b[0m\u001b[0;34m)\u001b[0m\u001b[0;34m]\u001b[0m\u001b[0;34m\u001b[0m\u001b[0;34m\u001b[0m\u001b[0m\n\u001b[0m\u001b[1;32m      8\u001b[0m         \u001b[0mprint\u001b[0m\u001b[0;34m(\u001b[0m\u001b[0mu\u001b[0m\u001b[0;34m,\u001b[0m\u001b[0mv\u001b[0m\u001b[0;34m)\u001b[0m            \u001b[0;31m# and research of the maximum of the graph's indexes maxi\u001b[0m\u001b[0;34m\u001b[0m\u001b[0;34m\u001b[0m\u001b[0m\n\u001b[1;32m      9\u001b[0m         \u001b[0;32mif\u001b[0m \u001b[0mu\u001b[0m \u001b[0;32min\u001b[0m \u001b[0md\u001b[0m\u001b[0;34m:\u001b[0m\u001b[0;34m\u001b[0m\u001b[0;34m\u001b[0m\u001b[0m\n",
      "\u001b[0;31mValueError\u001b[0m: too many values to unpack (expected 2)"
     ]
    }
   ],
   "source": [
    "PageRank('graph',1,0.001)"
   ]
  },
  {
   "cell_type": "markdown",
   "metadata": {},
   "source": [
    "The node 1 is the most important in so far as two nodes target the node 1. \n",
    "The others are less important. "
   ]
  },
  {
   "cell_type": "markdown",
   "metadata": {},
   "source": [
    "### 1 )b) Beta=0.8 ; esp=0.1"
   ]
  },
  {
   "cell_type": "markdown",
   "metadata": {},
   "source": [
    "We change the parameter Beta, which represents the jump possibility and we obtain : "
   ]
  },
  {
   "cell_type": "code",
   "execution_count": 9,
   "metadata": {},
   "outputs": [
    {
     "data": {
      "text/plain": [
       "('There you can see the importance of each node between 0 and 1 : ',\n",
       " {'node 1': 0.27144166191245994,\n",
       "  'node 2': 0.14205073558667264,\n",
       "  'node 3': 0.14688009681043457,\n",
       "  'node 4': 0.15069667329332564,\n",
       "  'node 5': 0.14205073558667264,\n",
       "  'node 6': 0.14688009681043457})"
      ]
     },
     "execution_count": 9,
     "metadata": {},
     "output_type": "execute_result"
    }
   ],
   "source": [
    "PageRank('./graph',0.8,0.001)"
   ]
  },
  {
   "cell_type": "markdown",
   "metadata": {},
   "source": [
    "## 2) Web Graph : applying PageRank to Wikipedia pages "
   ]
  },
  {
   "cell_type": "markdown",
   "metadata": {},
   "source": [
    "  "
   ]
  },
  {
   "cell_type": "markdown",
   "metadata": {},
   "source": [
    "Now, we have to create the graph ourself,by exploring the html code of each Wikipedia page, and by seeing if they contains links to other pages. "
   ]
  },
  {
   "cell_type": "code",
   "execution_count": 11,
   "metadata": {},
   "outputs": [
    {
     "ename": "FileNotFoundError",
     "evalue": "[Errno 2] No such file or directory: '/home/paul/Téléchargements/toyset/'",
     "output_type": "error",
     "traceback": [
      "\u001b[0;31m---------------------------------------------------------------------------\u001b[0m",
      "\u001b[0;31mFileNotFoundError\u001b[0m                         Traceback (most recent call last)",
      "\u001b[0;32m<ipython-input-11-b2131607be6a>\u001b[0m in \u001b[0;36m<module>\u001b[0;34m()\u001b[0m\n\u001b[1;32m      4\u001b[0m \u001b[0;32mimport\u001b[0m \u001b[0mhtml\u001b[0m\u001b[0;34m\u001b[0m\u001b[0;34m\u001b[0m\u001b[0m\n\u001b[1;32m      5\u001b[0m \u001b[0;34m\u001b[0m\u001b[0m\n\u001b[0;32m----> 6\u001b[0;31m \u001b[0mfiles\u001b[0m \u001b[0;34m=\u001b[0m \u001b[0;34m[\u001b[0m\u001b[0mf\u001b[0m \u001b[0;32mfor\u001b[0m \u001b[0mf\u001b[0m \u001b[0;32min\u001b[0m \u001b[0mlistdir\u001b[0m\u001b[0;34m(\u001b[0m\u001b[0;34m\"/home/paul/Téléchargements/toyset/\"\u001b[0m\u001b[0;34m)\u001b[0m \u001b[0;32mif\u001b[0m \u001b[0misfile\u001b[0m\u001b[0;34m(\u001b[0m\u001b[0mjoin\u001b[0m\u001b[0;34m(\u001b[0m\u001b[0;34m\"/home/paul/Téléchargements/toyset/\"\u001b[0m\u001b[0;34m,\u001b[0m \u001b[0mf\u001b[0m\u001b[0;34m)\u001b[0m\u001b[0;34m)\u001b[0m\u001b[0;34m]\u001b[0m\u001b[0;34m\u001b[0m\u001b[0;34m\u001b[0m\u001b[0m\n\u001b[0m\u001b[1;32m      7\u001b[0m \u001b[0mn\u001b[0m\u001b[0;34m=\u001b[0m\u001b[0mlen\u001b[0m\u001b[0;34m(\u001b[0m\u001b[0mfiles\u001b[0m\u001b[0;34m)\u001b[0m\u001b[0;34m\u001b[0m\u001b[0;34m\u001b[0m\u001b[0m\n\u001b[1;32m      8\u001b[0m \u001b[0mdico\u001b[0m\u001b[0;34m=\u001b[0m\u001b[0;34m{\u001b[0m\u001b[0;34m}\u001b[0m\u001b[0;34m\u001b[0m\u001b[0;34m\u001b[0m\u001b[0m\n",
      "\u001b[0;31mFileNotFoundError\u001b[0m: [Errno 2] No such file or directory: '/home/paul/Téléchargements/toyset/'"
     ]
    }
   ],
   "source": [
    "import re\n",
    "from os import listdir\n",
    "from os.path import isfile, join\n",
    "import html\n",
    "\n",
    "files = [f for f in listdir(\"/home/paul/Téléchargements/toyset/\") if isfile(join(\"/home/paul/Téléchargements/toyset/\", f))]\n",
    "n=len(files)\n",
    "dico={}\n",
    "for i in range(n):\n",
    "    dico[i+1]=files[i]           #dico will enable to refind the name of the page with its index\n",
    "    \n",
    "filesSet=set(files)\n",
    "graph_wiki=[]\n",
    "\n",
    "for i in range(len(files)):\n",
    "    f=open(\"/home/paul/Téléchargements/toyset/\"+files[i],encoding=\"utf8\")\n",
    "    list_links=re.findall(r'href=[\\'\"]?([^\\'\" >]+)',f.read())    #we get the list of links in the file i \n",
    "    list_links=list(set(list_links) & filesSet)                    #we keep only those who interest us  \n",
    "    for j in list_links:                                         #we append them to the grap \"graph_wiki\"\n",
    "        v=files.index(j)\n",
    "        graph_wiki.append((i+1,v+1))\n"
   ]
  },
  {
   "cell_type": "markdown",
   "metadata": {},
   "source": [
    "Now, we have our graph, named \"graph_wiki\". We adapt a little our function PageRank to presents the results differently. "
   ]
  },
  {
   "cell_type": "code",
   "execution_count": 21,
   "metadata": {},
   "outputs": [
    {
     "data": {
      "text/plain": [
       "('There you can see the importance of each page between 0 and 100 : ',\n",
       " {'Assembly_language.html': 3.9247213058175143,\n",
       "  'Binary_file.html': 0.4527633803277401,\n",
       "  'Boolean_data_type.html': 0.931262282786769,\n",
       "  'Bytecode.html': 1.392558988966497,\n",
       "  'C++.html': 3.04362286995754,\n",
       "  'COBOL.html': 2.343469619163733,\n",
       "  'C_(programming_language).html': 4.065222495276738,\n",
       "  'Comparison_of_programming_languages.html': 1.5043802272147742,\n",
       "  'Compiler.html': 3.3443171620915737,\n",
       "  'Computer.html': 2.20896294761528,\n",
       "  'Computer_hardware.html': 2.2940202786461015,\n",
       "  'Computer_memory.html': 1.562278964747902,\n",
       "  'Computer_program.html': 2.0267176138101384,\n",
       "  'Computer_science.html': 2.5251926819097723,\n",
       "  'Control_flow.html': 0.9750315627785691,\n",
       "  'Data_(computing).html': 0.7541860560966966,\n",
       "  'Data_type.html': 1.922532815298363,\n",
       "  'Database.html': 1.1228673044288302,\n",
       "  'Dynamic_programming_language.html': 1.2146789950983778,\n",
       "  'Executable.html': 1.2632100163216937,\n",
       "  'Fortran.html': 2.417875832683193,\n",
       "  'GNU_Compiler_Collection.html': 1.562877388288963,\n",
       "  'High-level_programming_language.html': 2.259627860770266,\n",
       "  'Imperative_programming.html': 2.3105607719844152,\n",
       "  'Instruction_set.html': 1.7393205084948433,\n",
       "  'Integer_(computer_science).html': 0.9185803223652302,\n",
       "  'JavaScript.html': 2.4491717448430443,\n",
       "  'Java_(programming_language).html': 3.35578160588575,\n",
       "  'Kernel_(computing).html': 0.458215434186174,\n",
       "  'Lexical_scope.html': 0.15637770689126324,\n",
       "  'Linux.html': 1.2203973358538192,\n",
       "  'Lisp_(programming_language).html': 2.820834779985951,\n",
       "  'List_of_programming_languages.html': 1.5001494219676144,\n",
       "  'Logic_programming.html': 1.274042866058705,\n",
       "  'Low-level_programming_language.html': 1.5637332330421183,\n",
       "  'Memory_address.html': 0.7767807524450869,\n",
       "  'Method_(computer_programming).html': 0.6290642593192322,\n",
       "  'Object-oriented_programming.html': 2.90991846835297,\n",
       "  'Object_(computer_science).html': 1.6062574604458213,\n",
       "  'Operating_system.html': 3.7572160895860858,\n",
       "  'Pointer_(computer_programming).html': 1.4857999162513766,\n",
       "  'Porting.html': 0.8953982220642149,\n",
       "  'Program_(machine).html': 0.37725837261121137,\n",
       "  'Programming_language.html': 4.823443714146223,\n",
       "  'Python_(programming_language).html': 2.6741833724812527,\n",
       "  'Scripting_language.html': 1.7354439700221842,\n",
       "  'Snowball_programming_language.html': 0.08144992148488653,\n",
       "  'Software.html': 1.3603491999745632,\n",
       "  'Software_portability.html': 1.2785472843536234,\n",
       "  'Source_code.html': 2.1408665445354305,\n",
       "  'Strong_and_weak_typing.html': 0.4660149816214593,\n",
       "  'Subroutine.html': 1.7025965064843145,\n",
       "  'Type_system.html': 2.036171805521405,\n",
       "  'Unix.html': 1.9371535401587747,\n",
       "  'Virtual_machine.html': 2.44654123648392})"
      ]
     },
     "execution_count": 21,
     "metadata": {},
     "output_type": "execute_result"
    }
   ],
   "source": [
    "def PageRank_graph(graph,beta,eps):\n",
    "    d={}\n",
    "    maxi=0\n",
    "    for couple in graph:                                   # creation of the sparse matrix \n",
    "        u,v= couple[0],couple[1]\n",
    "        if u in d:\n",
    "            d[u].append(v)\n",
    "        else:\n",
    "            d[u]=[v]\n",
    "        if u>maxi:\n",
    "            maxi=u\n",
    "        if v>maxi:\n",
    "            maxi=v\n",
    "    r=[]\n",
    "    for i in range(maxi):\n",
    "        r.append(1.0)\n",
    "    r=np.array(r)\n",
    "    r=r/maxi\n",
    "    p=(1-beta)*r\n",
    "    while distance(r,beta*product(d,r)+p)>eps: \n",
    "        r=beta*product(d,r)+p #iteration until the distance between the old and the new r is superior to eps\n",
    "    n=len(r)\n",
    "    y={}\n",
    "    for i in range(1,n+1):\n",
    "        y[dico[i]]=100*r[i-1]\n",
    "    return \"There you can see the importance of each page between 0 and 100 : \", y\n",
    "\n",
    "PageRank_graph(graph_wiki,1,0.1)\n"
   ]
  }
 ],
 "metadata": {
  "kernelspec": {
   "display_name": "Python 3",
   "language": "python",
   "name": "python3"
  },
  "language_info": {
   "codemirror_mode": {
    "name": "ipython",
    "version": 3
   },
   "file_extension": ".py",
   "mimetype": "text/x-python",
   "name": "python",
   "nbconvert_exporter": "python",
   "pygments_lexer": "ipython3",
   "version": "3.6.8"
  }
 },
 "nbformat": 4,
 "nbformat_minor": 2
}
